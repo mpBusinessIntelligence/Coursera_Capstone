{
 "cells": [
  {
   "cell_type": "code",
   "execution_count": 87,
   "metadata": {},
   "outputs": [],
   "source": [
    "import requests\n",
    "import pandas as pd\n",
    "import numpy as np\n",
    "from bs4 import BeautifulSoup\n",
    "import lxml\n",
    "from geopy.geocoders import Nominatim\n",
    "from IPython.display import Image \n",
    "from IPython.core.display import HTML\n",
    "from pandas.io.json import json_normalize\n",
    "import folium"
   ]
  },
  {
   "cell_type": "code",
   "execution_count": 88,
   "metadata": {},
   "outputs": [],
   "source": [
    "result = requests.get(\"https://en.wikipedia.org/wiki/List_of_postal_codes_of_Canada:_M\")"
   ]
  },
  {
   "cell_type": "code",
   "execution_count": 89,
   "metadata": {},
   "outputs": [],
   "source": [
    "soup = BeautifulSoup(result.content, 'html5lib')"
   ]
  },
  {
   "cell_type": "code",
   "execution_count": 90,
   "metadata": {},
   "outputs": [
    {
     "data": {
      "text/html": [
       "<div>\n",
       "<style scoped>\n",
       "    .dataframe tbody tr th:only-of-type {\n",
       "        vertical-align: middle;\n",
       "    }\n",
       "\n",
       "    .dataframe tbody tr th {\n",
       "        vertical-align: top;\n",
       "    }\n",
       "\n",
       "    .dataframe thead th {\n",
       "        text-align: right;\n",
       "    }\n",
       "</style>\n",
       "<table border=\"1\" class=\"dataframe\">\n",
       "  <thead>\n",
       "    <tr style=\"text-align: right;\">\n",
       "      <th></th>\n",
       "      <th>Postalcode</th>\n",
       "      <th>Borough</th>\n",
       "      <th>Neighbourhood</th>\n",
       "    </tr>\n",
       "  </thead>\n",
       "  <tbody>\n",
       "    <tr>\n",
       "      <th>0</th>\n",
       "      <td>M1B</td>\n",
       "      <td>Scarborough</td>\n",
       "      <td>RougeMalvern</td>\n",
       "    </tr>\n",
       "    <tr>\n",
       "      <th>1</th>\n",
       "      <td>M1C</td>\n",
       "      <td>Scarborough</td>\n",
       "      <td>Highland CreekRouge HillPort Union</td>\n",
       "    </tr>\n",
       "    <tr>\n",
       "      <th>2</th>\n",
       "      <td>M1E</td>\n",
       "      <td>Scarborough</td>\n",
       "      <td>GuildwoodMorningsideWest Hill</td>\n",
       "    </tr>\n",
       "    <tr>\n",
       "      <th>3</th>\n",
       "      <td>M1G</td>\n",
       "      <td>Scarborough</td>\n",
       "      <td>Woburn</td>\n",
       "    </tr>\n",
       "    <tr>\n",
       "      <th>4</th>\n",
       "      <td>M1H</td>\n",
       "      <td>Scarborough</td>\n",
       "      <td>Cedarbrae</td>\n",
       "    </tr>\n",
       "    <tr>\n",
       "      <th>5</th>\n",
       "      <td>M1J</td>\n",
       "      <td>Scarborough</td>\n",
       "      <td>Scarborough Village</td>\n",
       "    </tr>\n",
       "    <tr>\n",
       "      <th>6</th>\n",
       "      <td>M1K</td>\n",
       "      <td>Scarborough</td>\n",
       "      <td>East Birchmount ParkIonviewKennedy Park</td>\n",
       "    </tr>\n",
       "    <tr>\n",
       "      <th>7</th>\n",
       "      <td>M1L</td>\n",
       "      <td>Scarborough</td>\n",
       "      <td>ClairleaGolden MileOakridge</td>\n",
       "    </tr>\n",
       "    <tr>\n",
       "      <th>8</th>\n",
       "      <td>M1M</td>\n",
       "      <td>Scarborough</td>\n",
       "      <td>CliffcrestCliffsideScarborough Village West</td>\n",
       "    </tr>\n",
       "    <tr>\n",
       "      <th>9</th>\n",
       "      <td>M1N</td>\n",
       "      <td>Scarborough</td>\n",
       "      <td>Birch CliffCliffside West</td>\n",
       "    </tr>\n",
       "    <tr>\n",
       "      <th>10</th>\n",
       "      <td>M1P</td>\n",
       "      <td>Scarborough</td>\n",
       "      <td>Dorset ParkScarborough Town CentreWexford Heights</td>\n",
       "    </tr>\n",
       "  </tbody>\n",
       "</table>\n",
       "</div>"
      ],
      "text/plain": [
       "   Postalcode      Borough                                      Neighbourhood\n",
       "0         M1B  Scarborough                                       RougeMalvern\n",
       "1         M1C  Scarborough                 Highland CreekRouge HillPort Union\n",
       "2         M1E  Scarborough                      GuildwoodMorningsideWest Hill\n",
       "3         M1G  Scarborough                                             Woburn\n",
       "4         M1H  Scarborough                                          Cedarbrae\n",
       "5         M1J  Scarborough                                Scarborough Village\n",
       "6         M1K  Scarborough            East Birchmount ParkIonviewKennedy Park\n",
       "7         M1L  Scarborough                        ClairleaGolden MileOakridge\n",
       "8         M1M  Scarborough        CliffcrestCliffsideScarborough Village West\n",
       "9         M1N  Scarborough                          Birch CliffCliffside West\n",
       "10        M1P  Scarborough  Dorset ParkScarborough Town CentreWexford Heights"
      ]
     },
     "execution_count": 90,
     "metadata": {},
     "output_type": "execute_result"
    }
   ],
   "source": [
    "table = soup.find_all('table')[0] \n",
    "table\n",
    "dfs = pd.read_html(str(table))\n",
    "df = pd.concat(dfs)\n",
    "df.columns = ['Postalcode', 'Borough','Neighbourhood']\n",
    "df = df.iloc[1:]\n",
    "df=df[df['Neighbourhood']!='Not assigned']\n",
    "df.head()\n",
    "dfgrp=df.groupby(['Postalcode','Borough'])['Neighbourhood'].apply(''.join).reset_index()\n",
    "dfgrp.head(11)"
   ]
  },
  {
   "cell_type": "code",
   "execution_count": 91,
   "metadata": {},
   "outputs": [],
   "source": [
    "dfspatial=pd.read_csv(\"C:\\Geospatial_Coordinates.csv\")"
   ]
  },
  {
   "cell_type": "code",
   "execution_count": 92,
   "metadata": {},
   "outputs": [],
   "source": [
    "dfoutput=dfgrp.merge(dfspatial,on='Postalcode',how='inner')"
   ]
  },
  {
   "cell_type": "code",
   "execution_count": 93,
   "metadata": {},
   "outputs": [
    {
     "data": {
      "text/html": [
       "<div>\n",
       "<style scoped>\n",
       "    .dataframe tbody tr th:only-of-type {\n",
       "        vertical-align: middle;\n",
       "    }\n",
       "\n",
       "    .dataframe tbody tr th {\n",
       "        vertical-align: top;\n",
       "    }\n",
       "\n",
       "    .dataframe thead th {\n",
       "        text-align: right;\n",
       "    }\n",
       "</style>\n",
       "<table border=\"1\" class=\"dataframe\">\n",
       "  <thead>\n",
       "    <tr style=\"text-align: right;\">\n",
       "      <th></th>\n",
       "      <th>Postalcode</th>\n",
       "      <th>Borough</th>\n",
       "      <th>Neighbourhood</th>\n",
       "      <th>Latitude</th>\n",
       "      <th>Longitude</th>\n",
       "    </tr>\n",
       "  </thead>\n",
       "  <tbody>\n",
       "    <tr>\n",
       "      <th>0</th>\n",
       "      <td>M1B</td>\n",
       "      <td>Scarborough</td>\n",
       "      <td>RougeMalvern</td>\n",
       "      <td>43.806686</td>\n",
       "      <td>-79.194353</td>\n",
       "    </tr>\n",
       "    <tr>\n",
       "      <th>1</th>\n",
       "      <td>M1C</td>\n",
       "      <td>Scarborough</td>\n",
       "      <td>Highland CreekRouge HillPort Union</td>\n",
       "      <td>43.784535</td>\n",
       "      <td>-79.160497</td>\n",
       "    </tr>\n",
       "    <tr>\n",
       "      <th>2</th>\n",
       "      <td>M1E</td>\n",
       "      <td>Scarborough</td>\n",
       "      <td>GuildwoodMorningsideWest Hill</td>\n",
       "      <td>43.763573</td>\n",
       "      <td>-79.188711</td>\n",
       "    </tr>\n",
       "    <tr>\n",
       "      <th>3</th>\n",
       "      <td>M1G</td>\n",
       "      <td>Scarborough</td>\n",
       "      <td>Woburn</td>\n",
       "      <td>43.770992</td>\n",
       "      <td>-79.216917</td>\n",
       "    </tr>\n",
       "    <tr>\n",
       "      <th>4</th>\n",
       "      <td>M1H</td>\n",
       "      <td>Scarborough</td>\n",
       "      <td>Cedarbrae</td>\n",
       "      <td>43.773136</td>\n",
       "      <td>-79.239476</td>\n",
       "    </tr>\n",
       "    <tr>\n",
       "      <th>5</th>\n",
       "      <td>M1J</td>\n",
       "      <td>Scarborough</td>\n",
       "      <td>Scarborough Village</td>\n",
       "      <td>43.744734</td>\n",
       "      <td>-79.239476</td>\n",
       "    </tr>\n",
       "    <tr>\n",
       "      <th>6</th>\n",
       "      <td>M1K</td>\n",
       "      <td>Scarborough</td>\n",
       "      <td>East Birchmount ParkIonviewKennedy Park</td>\n",
       "      <td>43.727929</td>\n",
       "      <td>-79.262029</td>\n",
       "    </tr>\n",
       "    <tr>\n",
       "      <th>7</th>\n",
       "      <td>M1L</td>\n",
       "      <td>Scarborough</td>\n",
       "      <td>ClairleaGolden MileOakridge</td>\n",
       "      <td>43.711112</td>\n",
       "      <td>-79.284577</td>\n",
       "    </tr>\n",
       "    <tr>\n",
       "      <th>8</th>\n",
       "      <td>M1M</td>\n",
       "      <td>Scarborough</td>\n",
       "      <td>CliffcrestCliffsideScarborough Village West</td>\n",
       "      <td>43.716316</td>\n",
       "      <td>-79.239476</td>\n",
       "    </tr>\n",
       "    <tr>\n",
       "      <th>9</th>\n",
       "      <td>M1N</td>\n",
       "      <td>Scarborough</td>\n",
       "      <td>Birch CliffCliffside West</td>\n",
       "      <td>43.692657</td>\n",
       "      <td>-79.264848</td>\n",
       "    </tr>\n",
       "    <tr>\n",
       "      <th>10</th>\n",
       "      <td>M1P</td>\n",
       "      <td>Scarborough</td>\n",
       "      <td>Dorset ParkScarborough Town CentreWexford Heights</td>\n",
       "      <td>43.757410</td>\n",
       "      <td>-79.273304</td>\n",
       "    </tr>\n",
       "  </tbody>\n",
       "</table>\n",
       "</div>"
      ],
      "text/plain": [
       "   Postalcode      Borough                                      Neighbourhood  \\\n",
       "0         M1B  Scarborough                                       RougeMalvern   \n",
       "1         M1C  Scarborough                 Highland CreekRouge HillPort Union   \n",
       "2         M1E  Scarborough                      GuildwoodMorningsideWest Hill   \n",
       "3         M1G  Scarborough                                             Woburn   \n",
       "4         M1H  Scarborough                                          Cedarbrae   \n",
       "5         M1J  Scarborough                                Scarborough Village   \n",
       "6         M1K  Scarborough            East Birchmount ParkIonviewKennedy Park   \n",
       "7         M1L  Scarborough                        ClairleaGolden MileOakridge   \n",
       "8         M1M  Scarborough        CliffcrestCliffsideScarborough Village West   \n",
       "9         M1N  Scarborough                          Birch CliffCliffside West   \n",
       "10        M1P  Scarborough  Dorset ParkScarborough Town CentreWexford Heights   \n",
       "\n",
       "     Latitude  Longitude  \n",
       "0   43.806686 -79.194353  \n",
       "1   43.784535 -79.160497  \n",
       "2   43.763573 -79.188711  \n",
       "3   43.770992 -79.216917  \n",
       "4   43.773136 -79.239476  \n",
       "5   43.744734 -79.239476  \n",
       "6   43.727929 -79.262029  \n",
       "7   43.711112 -79.284577  \n",
       "8   43.716316 -79.239476  \n",
       "9   43.692657 -79.264848  \n",
       "10  43.757410 -79.273304  "
      ]
     },
     "execution_count": 93,
     "metadata": {},
     "output_type": "execute_result"
    }
   ],
   "source": [
    "dfoutput.head(11)"
   ]
  },
  {
   "cell_type": "code",
   "execution_count": 94,
   "metadata": {},
   "outputs": [],
   "source": [
    "dfToronto=dfoutput[dfoutput['Borough'].str.contains(\"Toronto\")]"
   ]
  },
  {
   "cell_type": "code",
   "execution_count": 95,
   "metadata": {},
   "outputs": [
    {
     "data": {
      "text/html": [
       "<div>\n",
       "<style scoped>\n",
       "    .dataframe tbody tr th:only-of-type {\n",
       "        vertical-align: middle;\n",
       "    }\n",
       "\n",
       "    .dataframe tbody tr th {\n",
       "        vertical-align: top;\n",
       "    }\n",
       "\n",
       "    .dataframe thead th {\n",
       "        text-align: right;\n",
       "    }\n",
       "</style>\n",
       "<table border=\"1\" class=\"dataframe\">\n",
       "  <thead>\n",
       "    <tr style=\"text-align: right;\">\n",
       "      <th></th>\n",
       "      <th>Postalcode</th>\n",
       "      <th>Borough</th>\n",
       "      <th>Neighbourhood</th>\n",
       "      <th>Latitude</th>\n",
       "      <th>Longitude</th>\n",
       "    </tr>\n",
       "  </thead>\n",
       "  <tbody>\n",
       "    <tr>\n",
       "      <th>37</th>\n",
       "      <td>M4E</td>\n",
       "      <td>East Toronto</td>\n",
       "      <td>The Beaches</td>\n",
       "      <td>43.676357</td>\n",
       "      <td>-79.293031</td>\n",
       "    </tr>\n",
       "    <tr>\n",
       "      <th>41</th>\n",
       "      <td>M4K</td>\n",
       "      <td>East Toronto</td>\n",
       "      <td>The Danforth WestRiverdale</td>\n",
       "      <td>43.679557</td>\n",
       "      <td>-79.352188</td>\n",
       "    </tr>\n",
       "    <tr>\n",
       "      <th>42</th>\n",
       "      <td>M4L</td>\n",
       "      <td>East Toronto</td>\n",
       "      <td>The Beaches WestIndia Bazaar</td>\n",
       "      <td>43.668999</td>\n",
       "      <td>-79.315572</td>\n",
       "    </tr>\n",
       "    <tr>\n",
       "      <th>43</th>\n",
       "      <td>M4M</td>\n",
       "      <td>East Toronto</td>\n",
       "      <td>Studio District</td>\n",
       "      <td>43.659526</td>\n",
       "      <td>-79.340923</td>\n",
       "    </tr>\n",
       "    <tr>\n",
       "      <th>44</th>\n",
       "      <td>M4N</td>\n",
       "      <td>Central Toronto</td>\n",
       "      <td>Lawrence Park</td>\n",
       "      <td>43.728020</td>\n",
       "      <td>-79.388790</td>\n",
       "    </tr>\n",
       "  </tbody>\n",
       "</table>\n",
       "</div>"
      ],
      "text/plain": [
       "   Postalcode          Borough                 Neighbourhood   Latitude  \\\n",
       "37        M4E     East Toronto                   The Beaches  43.676357   \n",
       "41        M4K     East Toronto    The Danforth WestRiverdale  43.679557   \n",
       "42        M4L     East Toronto  The Beaches WestIndia Bazaar  43.668999   \n",
       "43        M4M     East Toronto               Studio District  43.659526   \n",
       "44        M4N  Central Toronto                 Lawrence Park  43.728020   \n",
       "\n",
       "    Longitude  \n",
       "37 -79.293031  \n",
       "41 -79.352188  \n",
       "42 -79.315572  \n",
       "43 -79.340923  \n",
       "44 -79.388790  "
      ]
     },
     "execution_count": 95,
     "metadata": {},
     "output_type": "execute_result"
    }
   ],
   "source": [
    "dfToronto.head()"
   ]
  },
  {
   "cell_type": "code",
   "execution_count": 96,
   "metadata": {},
   "outputs": [
    {
     "data": {
      "text/plain": [
       "dtype('float64')"
      ]
     },
     "execution_count": 96,
     "metadata": {},
     "output_type": "execute_result"
    }
   ],
   "source": [
    "dfToronto.Longitude.dtype"
   ]
  },
  {
   "cell_type": "code",
   "execution_count": 97,
   "metadata": {},
   "outputs": [],
   "source": [
    "venues_map = folium.Map(location=[43.676357, -79.293031], zoom_start=10)"
   ]
  },
  {
   "cell_type": "code",
   "execution_count": 98,
   "metadata": {},
   "outputs": [],
   "source": [
    "from folium import plugins\n",
    "from folium.plugins import MarkerCluster\n",
    "from IPython.display import display\n",
    "marker_cluster = MarkerCluster().add_to(venues_map)\n",
    "\n",
    "\n",
    "\n"
   ]
  },
  {
   "cell_type": "code",
   "execution_count": 99,
   "metadata": {},
   "outputs": [],
   "source": [
    "for index, row in dfToronto.iterrows():    \n",
    "    folium.Marker(\n",
    "    [row['Latitude'], row['Longitude']],\n",
    "    radius=10,\n",
    "    color='red',\n",
    "    popup=\"M4N\",\n",
    "    fill = True,\n",
    "    fill_color = 'blue',\n",
    "    fill_opacity = 0.6).add_to(marker_cluster)\n",
    "    venues_map.save('venues.html')"
   ]
  },
  {
   "cell_type": "code",
   "execution_count": 100,
   "metadata": {},
   "outputs": [
    {
     "data": {
      "text/html": [
       "<div style=\"width:100%;\"><div style=\"position:relative;width:100%;height:0;padding-bottom:60%;\"><iframe src=\"data:text/html;charset=utf-8;base64,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\" style=\"position:absolute;width:100%;height:100%;left:0;top:0;border:none !important;\" allowfullscreen webkitallowfullscreen mozallowfullscreen></iframe></div></div>"
      ],
      "text/plain": [
       "<folium.folium.Map at 0xc2cb1b0>"
      ]
     },
     "execution_count": 100,
     "metadata": {},
     "output_type": "execute_result"
    }
   ],
   "source": [
    "venues_map"
   ]
  },
  {
   "cell_type": "code",
   "execution_count": null,
   "metadata": {},
   "outputs": [],
   "source": []
  },
  {
   "cell_type": "code",
   "execution_count": null,
   "metadata": {},
   "outputs": [],
   "source": []
  },
  {
   "cell_type": "code",
   "execution_count": null,
   "metadata": {},
   "outputs": [],
   "source": []
  }
 ],
 "metadata": {
  "kernelspec": {
   "display_name": "Python 3",
   "language": "python",
   "name": "python3"
  },
  "language_info": {
   "codemirror_mode": {
    "name": "ipython",
    "version": 3
   },
   "file_extension": ".py",
   "mimetype": "text/x-python",
   "name": "python",
   "nbconvert_exporter": "python",
   "pygments_lexer": "ipython3",
   "version": "3.6.4"
  }
 },
 "nbformat": 4,
 "nbformat_minor": 2
}
