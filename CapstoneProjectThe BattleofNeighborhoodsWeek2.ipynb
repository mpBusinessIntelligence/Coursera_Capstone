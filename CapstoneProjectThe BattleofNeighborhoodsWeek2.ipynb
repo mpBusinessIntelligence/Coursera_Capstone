{
 "cells": [
  {
   "cell_type": "markdown",
   "metadata": {},
   "source": [
    "# Capstone Project - The Battle of Neighborhoods (Week 2)"
   ]
  },
  {
   "cell_type": "markdown",
   "metadata": {},
   "source": [
    "# Business Problem Section"
   ]
  },
  {
   "cell_type": "markdown",
   "metadata": {},
   "source": [
    "#### Background"
   ]
  },
  {
   "cell_type": "markdown",
   "metadata": {},
   "source": [
    "As per the survey conducted it has been noticed that fire safety for many of the nursing providers has been of concern. There is a concern on how to move with the solution.The annual number of fires in health care properties reported to United States fire departments has followed a moderate downward trend since 2003. After falling between 2003 and 2010, the estimated number of fires has increased each year since 2011"
   ]
  },
  {
   "cell_type": "markdown",
   "metadata": {},
   "source": [
    "#### Business Problem"
   ]
  },
  {
   "cell_type": "markdown",
   "metadata": {},
   "source": [
    "There is an urgent need of machine learning algorithm to assist the professionals and nursing home providers to make an effective decisions to tackle all fire safety deficiencies.\n",
    "\n",
    "To solve this problem I would cluster the zone based on following:-\n",
    "severity level\n",
    "region wise\n",
    "Tag version\n",
    "Deficieny Description"
   ]
  },
  {
   "cell_type": "markdown",
   "metadata": {},
   "source": [
    "# Data Section"
   ]
  },
  {
   "cell_type": "markdown",
   "metadata": {},
   "source": [
    "Data was collected from https://healthdata.gov/dataset/fire-safety-deficiencies\n",
    "\n",
    "We would be using following data.A list of all fire safety deficiencies currently listed on Nursing Home Compare, including the nursing home that received the deficiency, the associated inspection date, deficiency tag number, scope and severity, the current status of the deficiency and the correction date."
   ]
  },
  {
   "cell_type": "markdown",
   "metadata": {},
   "source": [
    "'Federal Provider Number',\n",
    "'Provider Name', \n",
    "'Provider Address',\n",
    "'Provider City',\n",
    "'Provider State',\n",
    "'Provider Zip Code', \n",
    "'Survey Date',\n",
    "'Survey Type', \n",
    "'Deficiency Prefix', \n",
    "'Deficiency Tag Number',\n",
    "'Tag Version', \n",
    "'Deficiency Description',\n",
    "'Scope Severity Code',\n",
    "'Deficiency Corrected',\n",
    "'Correction Date', \n",
    "'Inspection Cycle',\n",
    "'Standard Deficiency', \n",
    "'Complaint Deficiency',\n",
    "'Location',\n",
    "'Processing Date'"
   ]
  },
  {
   "cell_type": "markdown",
   "metadata": {},
   "source": [
    "To explore and create a zone based on different cluster.We will access data through FourSquare API interface and arrange them as a dataframe for visualization. We will recommend better option for fire safety."
   ]
  },
  {
   "cell_type": "markdown",
   "metadata": {},
   "source": [
    "# Methodology section"
   ]
  },
  {
   "cell_type": "markdown",
   "metadata": {},
   "source": [
    "importing library, collecting data, cleaning data , normalizing it. Data modeling, preprocessing, modeling and clustering."
   ]
  },
  {
   "cell_type": "code",
   "execution_count": 55,
   "metadata": {},
   "outputs": [],
   "source": [
    "import pandas as pd\n",
    "import numpy as np\n",
    "from bs4 import BeautifulSoup\n",
    "import requests\n",
    "import lxml\n",
    "from geopy.geocoders import Nominatim\n",
    "from IPython.display import Image \n",
    "from IPython.core.display import HTML\n",
    "from pandas.io.json import json_normalize\n",
    "import folium\n",
    "import foursquare\n",
    "import sklearn\n",
    "import geopy\n",
    "from geopy.geocoders import Nominatim\n",
    "from geopy.distance import vincenty\n",
    "# import k-means from clustering stage\n",
    "from sklearn import preprocessing\n",
    "from sklearn.preprocessing import LabelEncoder\n",
    "from sklearn import metrics\n",
    "#from sklearn.cross_validation import KFold\n",
    "from sklearn.linear_model import LogisticRegression\n",
    "from sklearn.cluster import KMeans \n",
    "from sklearn.model_selection import train_test_split\n",
    "import matplotlib.pyplot as plt\n",
    "from matplotlib.ticker import NullFormatter\n",
    "import matplotlib.ticker as ticker\n",
    "from sklearn.neighbors import KNeighborsClassifier"
   ]
  },
  {
   "cell_type": "code",
   "execution_count": 56,
   "metadata": {},
   "outputs": [
    {
     "data": {
      "text/html": [
       "<div>\n",
       "<style scoped>\n",
       "    .dataframe tbody tr th:only-of-type {\n",
       "        vertical-align: middle;\n",
       "    }\n",
       "\n",
       "    .dataframe tbody tr th {\n",
       "        vertical-align: top;\n",
       "    }\n",
       "\n",
       "    .dataframe thead th {\n",
       "        text-align: right;\n",
       "    }\n",
       "</style>\n",
       "<table border=\"1\" class=\"dataframe\">\n",
       "  <thead>\n",
       "    <tr style=\"text-align: right;\">\n",
       "      <th></th>\n",
       "      <th>Federal Provider Number</th>\n",
       "      <th>Provider Name</th>\n",
       "      <th>Provider Address</th>\n",
       "      <th>Provider City</th>\n",
       "      <th>Provider State</th>\n",
       "      <th>Provider Zip Code</th>\n",
       "      <th>Survey Date</th>\n",
       "      <th>Survey Type</th>\n",
       "      <th>Deficiency Prefix</th>\n",
       "      <th>Deficiency Tag Number</th>\n",
       "      <th>Tag Version</th>\n",
       "      <th>Deficiency Description</th>\n",
       "      <th>Scope Severity Code</th>\n",
       "      <th>Deficiency Corrected</th>\n",
       "      <th>Correction Date</th>\n",
       "      <th>Inspection Cycle</th>\n",
       "      <th>Standard Deficiency</th>\n",
       "      <th>Complaint Deficiency</th>\n",
       "      <th>Location</th>\n",
       "      <th>Processing Date</th>\n",
       "    </tr>\n",
       "  </thead>\n",
       "  <tbody>\n",
       "    <tr>\n",
       "      <th>0</th>\n",
       "      <td>215224</td>\n",
       "      <td>MANORCARE HEALTH SERVICES  -SILVER SPRING</td>\n",
       "      <td>2501 MUSGROVE ROAD</td>\n",
       "      <td>SILVER SPRING</td>\n",
       "      <td>MD</td>\n",
       "      <td>20904</td>\n",
       "      <td>10/23/2017</td>\n",
       "      <td>Fire Safety</td>\n",
       "      <td>K</td>\n",
       "      <td>100</td>\n",
       "      <td>1</td>\n",
       "      <td>Meet other general requirements.</td>\n",
       "      <td>3</td>\n",
       "      <td>Deficient, Provider has date of correction</td>\n",
       "      <td>11/30/2017</td>\n",
       "      <td>2</td>\n",
       "      <td>True</td>\n",
       "      <td>0</td>\n",
       "      <td>2501 MUSGROVE ROAD SILVER SPRING, MD 20904 (39...</td>\n",
       "      <td>6/1/2019</td>\n",
       "    </tr>\n",
       "    <tr>\n",
       "      <th>1</th>\n",
       "      <td>215226</td>\n",
       "      <td>POWERBACK REHABILITATION</td>\n",
       "      <td>515 BRIGHTFIELD ROAD</td>\n",
       "      <td>LUTHERVILLE</td>\n",
       "      <td>MD</td>\n",
       "      <td>21093</td>\n",
       "      <td>1/15/2016</td>\n",
       "      <td>Fire Safety</td>\n",
       "      <td>K</td>\n",
       "      <td>51</td>\n",
       "      <td>2</td>\n",
       "      <td>A fire alarm system that can be heard througho...</td>\n",
       "      <td>5</td>\n",
       "      <td>Deficient, Provider has date of correction</td>\n",
       "      <td>3/22/2016</td>\n",
       "      <td>3</td>\n",
       "      <td>True</td>\n",
       "      <td>0</td>\n",
       "      <td>515 BRIGHTFIELD ROAD LUTHERVILLE, MD 21093 (39...</td>\n",
       "      <td>6/1/2019</td>\n",
       "    </tr>\n",
       "    <tr>\n",
       "      <th>2</th>\n",
       "      <td>215240</td>\n",
       "      <td>MORAN  NURSING AND REHABILITATION CENTER</td>\n",
       "      <td>25701 SHADY LANE S. W.</td>\n",
       "      <td>WESTERNPORT</td>\n",
       "      <td>MD</td>\n",
       "      <td>21562</td>\n",
       "      <td>5/23/2018</td>\n",
       "      <td>Fire Safety</td>\n",
       "      <td>K</td>\n",
       "      <td>321</td>\n",
       "      <td>1</td>\n",
       "      <td>Ensure that special areas are constructed so t...</td>\n",
       "      <td>3</td>\n",
       "      <td>Deficient, Provider has date of correction</td>\n",
       "      <td>6/23/2018</td>\n",
       "      <td>1</td>\n",
       "      <td>True</td>\n",
       "      <td>0</td>\n",
       "      <td>25701 SHADY LANE S W WESTERNPORT, MD 21562 (39...</td>\n",
       "      <td>6/1/2019</td>\n",
       "    </tr>\n",
       "    <tr>\n",
       "      <th>3</th>\n",
       "      <td>215178</td>\n",
       "      <td>FREDERICK VILLA NURSING &amp; REHAB CENTER</td>\n",
       "      <td>711 ACADEMY ROAD</td>\n",
       "      <td>CATONSVILLE</td>\n",
       "      <td>MD</td>\n",
       "      <td>21228</td>\n",
       "      <td>2/26/2018</td>\n",
       "      <td>Fire Safety</td>\n",
       "      <td>K</td>\n",
       "      <td>353</td>\n",
       "      <td>1</td>\n",
       "      <td>Inspect, test, and maintain automatic sprinkle...</td>\n",
       "      <td>5</td>\n",
       "      <td>Deficient, Provider has date of correction</td>\n",
       "      <td>4/6/2018</td>\n",
       "      <td>1</td>\n",
       "      <td>True</td>\n",
       "      <td>0</td>\n",
       "      <td>711 ACADEMY ROAD CATONSVILLE, MD 21228 (39.286...</td>\n",
       "      <td>6/1/2019</td>\n",
       "    </tr>\n",
       "    <tr>\n",
       "      <th>4</th>\n",
       "      <td>215207</td>\n",
       "      <td>LOCHEARN NURSING HOME, LLC</td>\n",
       "      <td>4800 SETON DRIVE</td>\n",
       "      <td>BALTIMORE</td>\n",
       "      <td>MD</td>\n",
       "      <td>21215</td>\n",
       "      <td>8/24/2015</td>\n",
       "      <td>Fire Safety</td>\n",
       "      <td>K</td>\n",
       "      <td>71</td>\n",
       "      <td>2</td>\n",
       "      <td>Properly constructed linen or trash chutes.</td>\n",
       "      <td>3</td>\n",
       "      <td>Deficient, Provider has date of correction</td>\n",
       "      <td>10/8/2015</td>\n",
       "      <td>3</td>\n",
       "      <td>True</td>\n",
       "      <td>0</td>\n",
       "      <td>4800 SETON DRIVE BALTIMORE, MD 21215 (39.34343...</td>\n",
       "      <td>6/1/2019</td>\n",
       "    </tr>\n",
       "  </tbody>\n",
       "</table>\n",
       "</div>"
      ],
      "text/plain": [
       "  Federal Provider Number                              Provider Name  \\\n",
       "0                  215224  MANORCARE HEALTH SERVICES  -SILVER SPRING   \n",
       "1                  215226                   POWERBACK REHABILITATION   \n",
       "2                  215240   MORAN  NURSING AND REHABILITATION CENTER   \n",
       "3                  215178     FREDERICK VILLA NURSING & REHAB CENTER   \n",
       "4                  215207                 LOCHEARN NURSING HOME, LLC   \n",
       "\n",
       "         Provider Address  Provider City Provider State  Provider Zip Code  \\\n",
       "0      2501 MUSGROVE ROAD  SILVER SPRING             MD              20904   \n",
       "1    515 BRIGHTFIELD ROAD    LUTHERVILLE             MD              21093   \n",
       "2  25701 SHADY LANE S. W.    WESTERNPORT             MD              21562   \n",
       "3        711 ACADEMY ROAD    CATONSVILLE             MD              21228   \n",
       "4        4800 SETON DRIVE      BALTIMORE             MD              21215   \n",
       "\n",
       "  Survey Date  Survey Type Deficiency Prefix  Deficiency Tag Number  \\\n",
       "0  10/23/2017  Fire Safety                 K                    100   \n",
       "1   1/15/2016  Fire Safety                 K                     51   \n",
       "2   5/23/2018  Fire Safety                 K                    321   \n",
       "3   2/26/2018  Fire Safety                 K                    353   \n",
       "4   8/24/2015  Fire Safety                 K                     71   \n",
       "\n",
       "   Tag Version                             Deficiency Description  \\\n",
       "0            1                   Meet other general requirements.   \n",
       "1            2  A fire alarm system that can be heard througho...   \n",
       "2            1  Ensure that special areas are constructed so t...   \n",
       "3            1  Inspect, test, and maintain automatic sprinkle...   \n",
       "4            2        Properly constructed linen or trash chutes.   \n",
       "\n",
       "   Scope Severity Code                        Deficiency Corrected  \\\n",
       "0                    3  Deficient, Provider has date of correction   \n",
       "1                    5  Deficient, Provider has date of correction   \n",
       "2                    3  Deficient, Provider has date of correction   \n",
       "3                    5  Deficient, Provider has date of correction   \n",
       "4                    3  Deficient, Provider has date of correction   \n",
       "\n",
       "  Correction Date  Inspection Cycle  Standard Deficiency  \\\n",
       "0      11/30/2017                 2                 True   \n",
       "1       3/22/2016                 3                 True   \n",
       "2       6/23/2018                 1                 True   \n",
       "3        4/6/2018                 1                 True   \n",
       "4       10/8/2015                 3                 True   \n",
       "\n",
       "   Complaint Deficiency                                           Location  \\\n",
       "0                     0  2501 MUSGROVE ROAD SILVER SPRING, MD 20904 (39...   \n",
       "1                     0  515 BRIGHTFIELD ROAD LUTHERVILLE, MD 21093 (39...   \n",
       "2                     0  25701 SHADY LANE S W WESTERNPORT, MD 21562 (39...   \n",
       "3                     0  711 ACADEMY ROAD CATONSVILLE, MD 21228 (39.286...   \n",
       "4                     0  4800 SETON DRIVE BALTIMORE, MD 21215 (39.34343...   \n",
       "\n",
       "  Processing Date  \n",
       "0        6/1/2019  \n",
       "1        6/1/2019  \n",
       "2        6/1/2019  \n",
       "3        6/1/2019  \n",
       "4        6/1/2019  "
      ]
     },
     "execution_count": 56,
     "metadata": {},
     "output_type": "execute_result"
    }
   ],
   "source": [
    "dfFireSafety=pd.read_csv(\"C:\\\\Fire_Safety_Deficiencies.csv\")\n",
    "dfFireSafety.head()"
   ]
  },
  {
   "cell_type": "code",
   "execution_count": 57,
   "metadata": {},
   "outputs": [
    {
     "data": {
      "text/plain": [
       "(154258, 20)"
      ]
     },
     "execution_count": 57,
     "metadata": {},
     "output_type": "execute_result"
    }
   ],
   "source": [
    "dfFireSafety.shape"
   ]
  },
  {
   "cell_type": "markdown",
   "metadata": {},
   "source": [
    "Sorting data based on severity"
   ]
  },
  {
   "cell_type": "code",
   "execution_count": 58,
   "metadata": {},
   "outputs": [],
   "source": [
    "dfFireSafety.sort_values(by=['Scope Severity Code'],ascending=[False],inplace=True)"
   ]
  },
  {
   "cell_type": "code",
   "execution_count": 59,
   "metadata": {},
   "outputs": [
    {
     "data": {
      "text/html": [
       "<div>\n",
       "<style scoped>\n",
       "    .dataframe tbody tr th:only-of-type {\n",
       "        vertical-align: middle;\n",
       "    }\n",
       "\n",
       "    .dataframe tbody tr th {\n",
       "        vertical-align: top;\n",
       "    }\n",
       "\n",
       "    .dataframe thead th {\n",
       "        text-align: right;\n",
       "    }\n",
       "</style>\n",
       "<table border=\"1\" class=\"dataframe\">\n",
       "  <thead>\n",
       "    <tr style=\"text-align: right;\">\n",
       "      <th></th>\n",
       "      <th>Federal Provider Number</th>\n",
       "      <th>Provider Name</th>\n",
       "      <th>Provider Address</th>\n",
       "      <th>Provider City</th>\n",
       "      <th>Provider State</th>\n",
       "      <th>Provider Zip Code</th>\n",
       "      <th>Survey Date</th>\n",
       "      <th>Survey Type</th>\n",
       "      <th>Deficiency Prefix</th>\n",
       "      <th>Deficiency Tag Number</th>\n",
       "      <th>Tag Version</th>\n",
       "      <th>Deficiency Description</th>\n",
       "      <th>Scope Severity Code</th>\n",
       "      <th>Deficiency Corrected</th>\n",
       "      <th>Correction Date</th>\n",
       "      <th>Inspection Cycle</th>\n",
       "      <th>Standard Deficiency</th>\n",
       "      <th>Complaint Deficiency</th>\n",
       "      <th>Location</th>\n",
       "      <th>Processing Date</th>\n",
       "    </tr>\n",
       "  </thead>\n",
       "  <tbody>\n",
       "    <tr>\n",
       "      <th>124944</th>\n",
       "      <td>155494</td>\n",
       "      <td>WATERS OF SCOTTSBURG, THE</td>\n",
       "      <td>1350 N TODD DR</td>\n",
       "      <td>SCOTTSBURG</td>\n",
       "      <td>IN</td>\n",
       "      <td>47170</td>\n",
       "      <td>3/29/2017</td>\n",
       "      <td>Fire Safety</td>\n",
       "      <td>K</td>\n",
       "      <td>353</td>\n",
       "      <td>1</td>\n",
       "      <td>Inspect, test, and maintain automatic sprinkle...</td>\n",
       "      <td>10</td>\n",
       "      <td>Deficient, Provider has date of correction</td>\n",
       "      <td>4/17/2017</td>\n",
       "      <td>3</td>\n",
       "      <td>True</td>\n",
       "      <td>0</td>\n",
       "      <td>1350 N TODD DR SCOTTSBURG, IN 47170 (38.70198,...</td>\n",
       "      <td>6/1/2019</td>\n",
       "    </tr>\n",
       "    <tr>\n",
       "      <th>13703</th>\n",
       "      <td>265410</td>\n",
       "      <td>BENTONVIEW PARK HEALTH &amp; REHABILITATION</td>\n",
       "      <td>410 WEST BENTON STREET</td>\n",
       "      <td>MONETT</td>\n",
       "      <td>MO</td>\n",
       "      <td>65708</td>\n",
       "      <td>3/28/2017</td>\n",
       "      <td>Fire Safety</td>\n",
       "      <td>K</td>\n",
       "      <td>354</td>\n",
       "      <td>1</td>\n",
       "      <td>Follow proper procedures when the automatic sp...</td>\n",
       "      <td>10</td>\n",
       "      <td>Deficient, Provider has date of correction</td>\n",
       "      <td>4/1/2017</td>\n",
       "      <td>3</td>\n",
       "      <td>False</td>\n",
       "      <td>1</td>\n",
       "      <td>410 WEST BENTON STREET MONETT, MO 65708 (36.92...</td>\n",
       "      <td>6/1/2019</td>\n",
       "    </tr>\n",
       "    <tr>\n",
       "      <th>60519</th>\n",
       "      <td>495334</td>\n",
       "      <td>SHORE HEALTH &amp; REHAB CENTER</td>\n",
       "      <td>26181 PARKSLEY ROAD</td>\n",
       "      <td>PARKSLEY</td>\n",
       "      <td>VA</td>\n",
       "      <td>23421</td>\n",
       "      <td>1/30/2019</td>\n",
       "      <td>Fire Safety</td>\n",
       "      <td>K</td>\n",
       "      <td>341</td>\n",
       "      <td>1</td>\n",
       "      <td>Install a fire alarm system that can be heard ...</td>\n",
       "      <td>10</td>\n",
       "      <td>Deficient, Provider has date of correction</td>\n",
       "      <td>4/3/2019</td>\n",
       "      <td>1</td>\n",
       "      <td>True</td>\n",
       "      <td>0</td>\n",
       "      <td>26181 PARKSLEY ROAD PARKSLEY, VA 23421 (37.758...</td>\n",
       "      <td>6/1/2019</td>\n",
       "    </tr>\n",
       "    <tr>\n",
       "      <th>99578</th>\n",
       "      <td>75353</td>\n",
       "      <td>JEWISH SENIOR SERVICES</td>\n",
       "      <td>4200 PARK AVENUE</td>\n",
       "      <td>BRIDGEPORT</td>\n",
       "      <td>CT</td>\n",
       "      <td>6604</td>\n",
       "      <td>8/2/2016</td>\n",
       "      <td>Fire Safety</td>\n",
       "      <td>K</td>\n",
       "      <td>50</td>\n",
       "      <td>1</td>\n",
       "      <td>Record of quarterly fire drills for each shift...</td>\n",
       "      <td>10</td>\n",
       "      <td>Deficient, Provider has date of correction</td>\n",
       "      <td>8/5/2016</td>\n",
       "      <td>3</td>\n",
       "      <td>True</td>\n",
       "      <td>0</td>\n",
       "      <td>4200 PARK AVENUE BRIDGEPORT, CT 06604 (41.2120...</td>\n",
       "      <td>6/1/2019</td>\n",
       "    </tr>\n",
       "    <tr>\n",
       "      <th>139558</th>\n",
       "      <td>195499</td>\n",
       "      <td>ST FRANCES NSG &amp; REHAB CENTER</td>\n",
       "      <td>417 INDUSTRIAL DRIVE</td>\n",
       "      <td>OBERLIN</td>\n",
       "      <td>LA</td>\n",
       "      <td>70655</td>\n",
       "      <td>1/9/2017</td>\n",
       "      <td>Fire Safety</td>\n",
       "      <td>K</td>\n",
       "      <td>343</td>\n",
       "      <td>1</td>\n",
       "      <td>Have a fire alarm with audible and visual sign...</td>\n",
       "      <td>10</td>\n",
       "      <td>Deficient, Provider has date of correction</td>\n",
       "      <td>2/3/2017</td>\n",
       "      <td>3</td>\n",
       "      <td>True</td>\n",
       "      <td>0</td>\n",
       "      <td>417 INDUSTRIAL DRIVE OBERLIN, LA 70655 (30.626...</td>\n",
       "      <td>6/1/2019</td>\n",
       "    </tr>\n",
       "    <tr>\n",
       "      <th>4030</th>\n",
       "      <td>45288</td>\n",
       "      <td>ALLAY HEALTH AND REHAB</td>\n",
       "      <td>3115 BOWMAN ROAD</td>\n",
       "      <td>LITTLE ROCK</td>\n",
       "      <td>AR</td>\n",
       "      <td>72211</td>\n",
       "      <td>9/19/2018</td>\n",
       "      <td>Fire Safety</td>\n",
       "      <td>K</td>\n",
       "      <td>346</td>\n",
       "      <td>1</td>\n",
       "      <td>Follow proper procedures when the fire alarm w...</td>\n",
       "      <td>10</td>\n",
       "      <td>Deficient, Provider has date of correction</td>\n",
       "      <td>10/18/2018</td>\n",
       "      <td>1</td>\n",
       "      <td>True</td>\n",
       "      <td>0</td>\n",
       "      <td>3115 BOWMAN ROAD LITTLE ROCK, AR 72211</td>\n",
       "      <td>6/1/2019</td>\n",
       "    </tr>\n",
       "    <tr>\n",
       "      <th>140376</th>\n",
       "      <td>205090</td>\n",
       "      <td>BORDERVIEW REHAB &amp; LIVING CTR</td>\n",
       "      <td>208 STATE STREET</td>\n",
       "      <td>VAN BUREN</td>\n",
       "      <td>ME</td>\n",
       "      <td>4785</td>\n",
       "      <td>6/28/2016</td>\n",
       "      <td>Fire Safety</td>\n",
       "      <td>K</td>\n",
       "      <td>62</td>\n",
       "      <td>2</td>\n",
       "      <td>Automatic sprinkler systems that have been mai...</td>\n",
       "      <td>10</td>\n",
       "      <td>Deficient, Provider has date of correction</td>\n",
       "      <td>11/10/2016</td>\n",
       "      <td>3</td>\n",
       "      <td>True</td>\n",
       "      <td>0</td>\n",
       "      <td>208 STATE STREET VAN BUREN, ME 04785 (47.14831...</td>\n",
       "      <td>6/1/2019</td>\n",
       "    </tr>\n",
       "    <tr>\n",
       "      <th>87679</th>\n",
       "      <td>675615</td>\n",
       "      <td>MERIDIAN CARE AT GRAYSON SQUARE</td>\n",
       "      <td>815  E  GRAYSON  ST</td>\n",
       "      <td>SAN ANTONIO</td>\n",
       "      <td>TX</td>\n",
       "      <td>78208</td>\n",
       "      <td>12/12/2018</td>\n",
       "      <td>Fire Safety</td>\n",
       "      <td>K</td>\n",
       "      <td>918</td>\n",
       "      <td>1</td>\n",
       "      <td>Have generator or other power source capable o...</td>\n",
       "      <td>10</td>\n",
       "      <td>Deficient, Provider has date of correction</td>\n",
       "      <td>12/13/2018</td>\n",
       "      <td>1</td>\n",
       "      <td>True</td>\n",
       "      <td>0</td>\n",
       "      <td>815 E GRAYSON ST SAN ANTONIO, TX 78208 (29.443...</td>\n",
       "      <td>6/1/2019</td>\n",
       "    </tr>\n",
       "    <tr>\n",
       "      <th>13001</th>\n",
       "      <td>265383</td>\n",
       "      <td>FOUNTAINBLEAU LODGE</td>\n",
       "      <td>2001 NORTH KINGSHIGHWAY</td>\n",
       "      <td>CAPE GIRARDEAU</td>\n",
       "      <td>MO</td>\n",
       "      <td>63701</td>\n",
       "      <td>10/4/2016</td>\n",
       "      <td>Fire Safety</td>\n",
       "      <td>K</td>\n",
       "      <td>155</td>\n",
       "      <td>1</td>\n",
       "      <td>An approved back-up procedure for a faulty fir...</td>\n",
       "      <td>10</td>\n",
       "      <td>Deficient, Provider has date of correction</td>\n",
       "      <td>11/1/2016</td>\n",
       "      <td>3</td>\n",
       "      <td>True</td>\n",
       "      <td>0</td>\n",
       "      <td>2001 NORTH KINGSHIGHWAY CAPE GIRARDEAU, MO 637...</td>\n",
       "      <td>6/1/2019</td>\n",
       "    </tr>\n",
       "    <tr>\n",
       "      <th>100645</th>\n",
       "      <td>75425</td>\n",
       "      <td>VANDERMAN PLACE</td>\n",
       "      <td>595 VALLEY STREET</td>\n",
       "      <td>WILLIMANTIC</td>\n",
       "      <td>CT</td>\n",
       "      <td>6226</td>\n",
       "      <td>1/2/2018</td>\n",
       "      <td>Fire Safety</td>\n",
       "      <td>K</td>\n",
       "      <td>351</td>\n",
       "      <td>1</td>\n",
       "      <td>Install an approved automatic sprinkler system.</td>\n",
       "      <td>10</td>\n",
       "      <td>Deficient, Provider has plan of correction</td>\n",
       "      <td>1/5/2018</td>\n",
       "      <td>2</td>\n",
       "      <td>False</td>\n",
       "      <td>1</td>\n",
       "      <td>595 VALLEY STREET WILLIMANTIC, CT 06226 (41.71...</td>\n",
       "      <td>6/1/2019</td>\n",
       "    </tr>\n",
       "  </tbody>\n",
       "</table>\n",
       "</div>"
      ],
      "text/plain": [
       "       Federal Provider Number                            Provider Name  \\\n",
       "124944                  155494                WATERS OF SCOTTSBURG, THE   \n",
       "13703                   265410  BENTONVIEW PARK HEALTH & REHABILITATION   \n",
       "60519                   495334              SHORE HEALTH & REHAB CENTER   \n",
       "99578                    75353                   JEWISH SENIOR SERVICES   \n",
       "139558                  195499            ST FRANCES NSG & REHAB CENTER   \n",
       "4030                     45288                   ALLAY HEALTH AND REHAB   \n",
       "140376                  205090            BORDERVIEW REHAB & LIVING CTR   \n",
       "87679                   675615          MERIDIAN CARE AT GRAYSON SQUARE   \n",
       "13001                   265383                      FOUNTAINBLEAU LODGE   \n",
       "100645                   75425                          VANDERMAN PLACE   \n",
       "\n",
       "               Provider Address   Provider City Provider State  \\\n",
       "124944           1350 N TODD DR      SCOTTSBURG             IN   \n",
       "13703    410 WEST BENTON STREET          MONETT             MO   \n",
       "60519       26181 PARKSLEY ROAD        PARKSLEY             VA   \n",
       "99578          4200 PARK AVENUE      BRIDGEPORT             CT   \n",
       "139558     417 INDUSTRIAL DRIVE         OBERLIN             LA   \n",
       "4030           3115 BOWMAN ROAD     LITTLE ROCK             AR   \n",
       "140376         208 STATE STREET       VAN BUREN             ME   \n",
       "87679       815  E  GRAYSON  ST     SAN ANTONIO             TX   \n",
       "13001   2001 NORTH KINGSHIGHWAY  CAPE GIRARDEAU             MO   \n",
       "100645        595 VALLEY STREET     WILLIMANTIC             CT   \n",
       "\n",
       "        Provider Zip Code Survey Date  Survey Type Deficiency Prefix  \\\n",
       "124944              47170   3/29/2017  Fire Safety                 K   \n",
       "13703               65708   3/28/2017  Fire Safety                 K   \n",
       "60519               23421   1/30/2019  Fire Safety                 K   \n",
       "99578                6604    8/2/2016  Fire Safety                 K   \n",
       "139558              70655    1/9/2017  Fire Safety                 K   \n",
       "4030                72211   9/19/2018  Fire Safety                 K   \n",
       "140376               4785   6/28/2016  Fire Safety                 K   \n",
       "87679               78208  12/12/2018  Fire Safety                 K   \n",
       "13001               63701   10/4/2016  Fire Safety                 K   \n",
       "100645               6226    1/2/2018  Fire Safety                 K   \n",
       "\n",
       "        Deficiency Tag Number  Tag Version  \\\n",
       "124944                    353            1   \n",
       "13703                     354            1   \n",
       "60519                     341            1   \n",
       "99578                      50            1   \n",
       "139558                    343            1   \n",
       "4030                      346            1   \n",
       "140376                     62            2   \n",
       "87679                     918            1   \n",
       "13001                     155            1   \n",
       "100645                    351            1   \n",
       "\n",
       "                                   Deficiency Description  \\\n",
       "124944  Inspect, test, and maintain automatic sprinkle...   \n",
       "13703   Follow proper procedures when the automatic sp...   \n",
       "60519   Install a fire alarm system that can be heard ...   \n",
       "99578   Record of quarterly fire drills for each shift...   \n",
       "139558  Have a fire alarm with audible and visual sign...   \n",
       "4030    Follow proper procedures when the fire alarm w...   \n",
       "140376  Automatic sprinkler systems that have been mai...   \n",
       "87679   Have generator or other power source capable o...   \n",
       "13001   An approved back-up procedure for a faulty fir...   \n",
       "100645    Install an approved automatic sprinkler system.   \n",
       "\n",
       "        Scope Severity Code                        Deficiency Corrected  \\\n",
       "124944                   10  Deficient, Provider has date of correction   \n",
       "13703                    10  Deficient, Provider has date of correction   \n",
       "60519                    10  Deficient, Provider has date of correction   \n",
       "99578                    10  Deficient, Provider has date of correction   \n",
       "139558                   10  Deficient, Provider has date of correction   \n",
       "4030                     10  Deficient, Provider has date of correction   \n",
       "140376                   10  Deficient, Provider has date of correction   \n",
       "87679                    10  Deficient, Provider has date of correction   \n",
       "13001                    10  Deficient, Provider has date of correction   \n",
       "100645                   10  Deficient, Provider has plan of correction   \n",
       "\n",
       "       Correction Date  Inspection Cycle  Standard Deficiency  \\\n",
       "124944       4/17/2017                 3                 True   \n",
       "13703         4/1/2017                 3                False   \n",
       "60519         4/3/2019                 1                 True   \n",
       "99578         8/5/2016                 3                 True   \n",
       "139558        2/3/2017                 3                 True   \n",
       "4030        10/18/2018                 1                 True   \n",
       "140376      11/10/2016                 3                 True   \n",
       "87679       12/13/2018                 1                 True   \n",
       "13001        11/1/2016                 3                 True   \n",
       "100645        1/5/2018                 2                False   \n",
       "\n",
       "        Complaint Deficiency  \\\n",
       "124944                     0   \n",
       "13703                      1   \n",
       "60519                      0   \n",
       "99578                      0   \n",
       "139558                     0   \n",
       "4030                       0   \n",
       "140376                     0   \n",
       "87679                      0   \n",
       "13001                      0   \n",
       "100645                     1   \n",
       "\n",
       "                                                 Location Processing Date  \n",
       "124944  1350 N TODD DR SCOTTSBURG, IN 47170 (38.70198,...        6/1/2019  \n",
       "13703   410 WEST BENTON STREET MONETT, MO 65708 (36.92...        6/1/2019  \n",
       "60519   26181 PARKSLEY ROAD PARKSLEY, VA 23421 (37.758...        6/1/2019  \n",
       "99578   4200 PARK AVENUE BRIDGEPORT, CT 06604 (41.2120...        6/1/2019  \n",
       "139558  417 INDUSTRIAL DRIVE OBERLIN, LA 70655 (30.626...        6/1/2019  \n",
       "4030               3115 BOWMAN ROAD LITTLE ROCK, AR 72211        6/1/2019  \n",
       "140376  208 STATE STREET VAN BUREN, ME 04785 (47.14831...        6/1/2019  \n",
       "87679   815 E GRAYSON ST SAN ANTONIO, TX 78208 (29.443...        6/1/2019  \n",
       "13001   2001 NORTH KINGSHIGHWAY CAPE GIRARDEAU, MO 637...        6/1/2019  \n",
       "100645  595 VALLEY STREET WILLIMANTIC, CT 06226 (41.71...        6/1/2019  "
      ]
     },
     "execution_count": 59,
     "metadata": {},
     "output_type": "execute_result"
    }
   ],
   "source": [
    "dfFireSafety.head(10)"
   ]
  },
  {
   "cell_type": "markdown",
   "metadata": {},
   "source": [
    "### K-Means Clustering"
   ]
  },
  {
   "cell_type": "code",
   "execution_count": 60,
   "metadata": {},
   "outputs": [],
   "source": [
    "from sklearn.preprocessing import StandardScaler"
   ]
  },
  {
   "cell_type": "code",
   "execution_count": 61,
   "metadata": {},
   "outputs": [],
   "source": [
    "dfFireSafetyK=dfFireSafety[['Scope Severity Code','Complaint Deficiency','Inspection Cycle']]"
   ]
  },
  {
   "cell_type": "code",
   "execution_count": 62,
   "metadata": {},
   "outputs": [
    {
     "name": "stderr",
     "output_type": "stream",
     "text": [
      "c:\\python\\lib\\site-packages\\sklearn\\utils\\validation.py:595: DataConversionWarning: Data with input dtype int64 was converted to float64 by StandardScaler.\n",
      "  warnings.warn(msg, DataConversionWarning)\n",
      "c:\\python\\lib\\site-packages\\sklearn\\utils\\validation.py:595: DataConversionWarning: Data with input dtype int64 was converted to float64 by StandardScaler.\n",
      "  warnings.warn(msg, DataConversionWarning)\n"
     ]
    },
    {
     "data": {
      "text/plain": [
       "array([[-0.0612209 ,  1.31154847],\n",
       "       [16.33428994,  1.31154847],\n",
       "       [-0.0612209 , -1.1337079 ],\n",
       "       ...,\n",
       "       [-0.0612209 ,  1.31154847],\n",
       "       [-0.0612209 , -1.1337079 ],\n",
       "       [-0.0612209 ,  0.08892029]])"
      ]
     },
     "execution_count": 62,
     "metadata": {},
     "output_type": "execute_result"
    }
   ],
   "source": [
    "X = dfFireSafetyK.values[:,1:]\n",
    "X = np.nan_to_num(X)\n",
    "cluster_dataset = StandardScaler().fit_transform(X)\n",
    "cluster_dataset"
   ]
  },
  {
   "cell_type": "code",
   "execution_count": 63,
   "metadata": {},
   "outputs": [],
   "source": [
    "num_clusters = 9\n",
    "\n",
    "k_means = KMeans(init=\"k-means++\", n_clusters=num_clusters, n_init=12)\n",
    "k_means.fit(dfFireSafetyK)\n",
    "#labels = k_means.labels_\n",
    "labels=k_means.labels_\n",
    "#pred"
   ]
  },
  {
   "cell_type": "code",
   "execution_count": 64,
   "metadata": {},
   "outputs": [
    {
     "data": {
      "text/plain": [
       "array([[5.01482702e+00, 7.66062603e-03, 3.00000000e+00],\n",
       "       [3.00000000e+00, 3.21913997e-03, 1.49113743e+00],\n",
       "       [2.79013635e+00, 2.49492312e-03, 3.00000000e+00],\n",
       "       [5.01031339e+00, 6.18803646e-03, 2.00000000e+00],\n",
       "       [1.94769286e+00, 3.53103118e-03, 1.40110120e+00],\n",
       "       [4.00000000e+00, 2.93754774e-03, 3.00000000e+00],\n",
       "       [4.00000000e+00, 3.15633123e-03, 2.00000000e+00],\n",
       "       [5.00695145e+00, 2.75935261e-03, 1.00000000e+00],\n",
       "       [4.00000000e+00, 3.38367066e-03, 1.00000000e+00]])"
      ]
     },
     "execution_count": 64,
     "metadata": {},
     "output_type": "execute_result"
    }
   ],
   "source": [
    "centroids = k_means.cluster_centers_\n",
    "centroids"
   ]
  },
  {
   "cell_type": "code",
   "execution_count": 65,
   "metadata": {},
   "outputs": [
    {
     "data": {
      "text/html": [
       "<div>\n",
       "<style scoped>\n",
       "    .dataframe tbody tr th:only-of-type {\n",
       "        vertical-align: middle;\n",
       "    }\n",
       "\n",
       "    .dataframe tbody tr th {\n",
       "        vertical-align: top;\n",
       "    }\n",
       "\n",
       "    .dataframe thead th {\n",
       "        text-align: right;\n",
       "    }\n",
       "</style>\n",
       "<table border=\"1\" class=\"dataframe\">\n",
       "  <thead>\n",
       "    <tr style=\"text-align: right;\">\n",
       "      <th></th>\n",
       "      <th>Federal Provider Number</th>\n",
       "      <th>Provider Name</th>\n",
       "      <th>Provider Address</th>\n",
       "      <th>Provider City</th>\n",
       "      <th>Provider State</th>\n",
       "      <th>Provider Zip Code</th>\n",
       "      <th>Survey Date</th>\n",
       "      <th>Survey Type</th>\n",
       "      <th>Deficiency Prefix</th>\n",
       "      <th>Deficiency Tag Number</th>\n",
       "      <th>...</th>\n",
       "      <th>Deficiency Description</th>\n",
       "      <th>Scope Severity Code</th>\n",
       "      <th>Deficiency Corrected</th>\n",
       "      <th>Correction Date</th>\n",
       "      <th>Inspection Cycle</th>\n",
       "      <th>Standard Deficiency</th>\n",
       "      <th>Complaint Deficiency</th>\n",
       "      <th>Location</th>\n",
       "      <th>Processing Date</th>\n",
       "      <th>Labels</th>\n",
       "    </tr>\n",
       "  </thead>\n",
       "  <tbody>\n",
       "    <tr>\n",
       "      <th>124944</th>\n",
       "      <td>155494</td>\n",
       "      <td>WATERS OF SCOTTSBURG, THE</td>\n",
       "      <td>1350 N TODD DR</td>\n",
       "      <td>SCOTTSBURG</td>\n",
       "      <td>IN</td>\n",
       "      <td>47170</td>\n",
       "      <td>3/29/2017</td>\n",
       "      <td>Fire Safety</td>\n",
       "      <td>K</td>\n",
       "      <td>353</td>\n",
       "      <td>...</td>\n",
       "      <td>Inspect, test, and maintain automatic sprinkle...</td>\n",
       "      <td>10</td>\n",
       "      <td>Deficient, Provider has date of correction</td>\n",
       "      <td>4/17/2017</td>\n",
       "      <td>3</td>\n",
       "      <td>True</td>\n",
       "      <td>0</td>\n",
       "      <td>1350 N TODD DR SCOTTSBURG, IN 47170 (38.70198,...</td>\n",
       "      <td>6/1/2019</td>\n",
       "      <td>0</td>\n",
       "    </tr>\n",
       "    <tr>\n",
       "      <th>13703</th>\n",
       "      <td>265410</td>\n",
       "      <td>BENTONVIEW PARK HEALTH &amp; REHABILITATION</td>\n",
       "      <td>410 WEST BENTON STREET</td>\n",
       "      <td>MONETT</td>\n",
       "      <td>MO</td>\n",
       "      <td>65708</td>\n",
       "      <td>3/28/2017</td>\n",
       "      <td>Fire Safety</td>\n",
       "      <td>K</td>\n",
       "      <td>354</td>\n",
       "      <td>...</td>\n",
       "      <td>Follow proper procedures when the automatic sp...</td>\n",
       "      <td>10</td>\n",
       "      <td>Deficient, Provider has date of correction</td>\n",
       "      <td>4/1/2017</td>\n",
       "      <td>3</td>\n",
       "      <td>False</td>\n",
       "      <td>1</td>\n",
       "      <td>410 WEST BENTON STREET MONETT, MO 65708 (36.92...</td>\n",
       "      <td>6/1/2019</td>\n",
       "      <td>0</td>\n",
       "    </tr>\n",
       "    <tr>\n",
       "      <th>60519</th>\n",
       "      <td>495334</td>\n",
       "      <td>SHORE HEALTH &amp; REHAB CENTER</td>\n",
       "      <td>26181 PARKSLEY ROAD</td>\n",
       "      <td>PARKSLEY</td>\n",
       "      <td>VA</td>\n",
       "      <td>23421</td>\n",
       "      <td>1/30/2019</td>\n",
       "      <td>Fire Safety</td>\n",
       "      <td>K</td>\n",
       "      <td>341</td>\n",
       "      <td>...</td>\n",
       "      <td>Install a fire alarm system that can be heard ...</td>\n",
       "      <td>10</td>\n",
       "      <td>Deficient, Provider has date of correction</td>\n",
       "      <td>4/3/2019</td>\n",
       "      <td>1</td>\n",
       "      <td>True</td>\n",
       "      <td>0</td>\n",
       "      <td>26181 PARKSLEY ROAD PARKSLEY, VA 23421 (37.758...</td>\n",
       "      <td>6/1/2019</td>\n",
       "      <td>7</td>\n",
       "    </tr>\n",
       "    <tr>\n",
       "      <th>99578</th>\n",
       "      <td>75353</td>\n",
       "      <td>JEWISH SENIOR SERVICES</td>\n",
       "      <td>4200 PARK AVENUE</td>\n",
       "      <td>BRIDGEPORT</td>\n",
       "      <td>CT</td>\n",
       "      <td>6604</td>\n",
       "      <td>8/2/2016</td>\n",
       "      <td>Fire Safety</td>\n",
       "      <td>K</td>\n",
       "      <td>50</td>\n",
       "      <td>...</td>\n",
       "      <td>Record of quarterly fire drills for each shift...</td>\n",
       "      <td>10</td>\n",
       "      <td>Deficient, Provider has date of correction</td>\n",
       "      <td>8/5/2016</td>\n",
       "      <td>3</td>\n",
       "      <td>True</td>\n",
       "      <td>0</td>\n",
       "      <td>4200 PARK AVENUE BRIDGEPORT, CT 06604 (41.2120...</td>\n",
       "      <td>6/1/2019</td>\n",
       "      <td>0</td>\n",
       "    </tr>\n",
       "    <tr>\n",
       "      <th>139558</th>\n",
       "      <td>195499</td>\n",
       "      <td>ST FRANCES NSG &amp; REHAB CENTER</td>\n",
       "      <td>417 INDUSTRIAL DRIVE</td>\n",
       "      <td>OBERLIN</td>\n",
       "      <td>LA</td>\n",
       "      <td>70655</td>\n",
       "      <td>1/9/2017</td>\n",
       "      <td>Fire Safety</td>\n",
       "      <td>K</td>\n",
       "      <td>343</td>\n",
       "      <td>...</td>\n",
       "      <td>Have a fire alarm with audible and visual sign...</td>\n",
       "      <td>10</td>\n",
       "      <td>Deficient, Provider has date of correction</td>\n",
       "      <td>2/3/2017</td>\n",
       "      <td>3</td>\n",
       "      <td>True</td>\n",
       "      <td>0</td>\n",
       "      <td>417 INDUSTRIAL DRIVE OBERLIN, LA 70655 (30.626...</td>\n",
       "      <td>6/1/2019</td>\n",
       "      <td>0</td>\n",
       "    </tr>\n",
       "  </tbody>\n",
       "</table>\n",
       "<p>5 rows × 21 columns</p>\n",
       "</div>"
      ],
      "text/plain": [
       "       Federal Provider Number                            Provider Name  \\\n",
       "124944                  155494                WATERS OF SCOTTSBURG, THE   \n",
       "13703                   265410  BENTONVIEW PARK HEALTH & REHABILITATION   \n",
       "60519                   495334              SHORE HEALTH & REHAB CENTER   \n",
       "99578                    75353                   JEWISH SENIOR SERVICES   \n",
       "139558                  195499            ST FRANCES NSG & REHAB CENTER   \n",
       "\n",
       "              Provider Address Provider City Provider State  \\\n",
       "124944          1350 N TODD DR    SCOTTSBURG             IN   \n",
       "13703   410 WEST BENTON STREET        MONETT             MO   \n",
       "60519      26181 PARKSLEY ROAD      PARKSLEY             VA   \n",
       "99578         4200 PARK AVENUE    BRIDGEPORT             CT   \n",
       "139558    417 INDUSTRIAL DRIVE       OBERLIN             LA   \n",
       "\n",
       "        Provider Zip Code Survey Date  Survey Type Deficiency Prefix  \\\n",
       "124944              47170   3/29/2017  Fire Safety                 K   \n",
       "13703               65708   3/28/2017  Fire Safety                 K   \n",
       "60519               23421   1/30/2019  Fire Safety                 K   \n",
       "99578                6604    8/2/2016  Fire Safety                 K   \n",
       "139558              70655    1/9/2017  Fire Safety                 K   \n",
       "\n",
       "        Deficiency Tag Number  ...    \\\n",
       "124944                    353  ...     \n",
       "13703                     354  ...     \n",
       "60519                     341  ...     \n",
       "99578                      50  ...     \n",
       "139558                    343  ...     \n",
       "\n",
       "                                   Deficiency Description Scope Severity Code  \\\n",
       "124944  Inspect, test, and maintain automatic sprinkle...                  10   \n",
       "13703   Follow proper procedures when the automatic sp...                  10   \n",
       "60519   Install a fire alarm system that can be heard ...                  10   \n",
       "99578   Record of quarterly fire drills for each shift...                  10   \n",
       "139558  Have a fire alarm with audible and visual sign...                  10   \n",
       "\n",
       "                              Deficiency Corrected Correction Date  \\\n",
       "124944  Deficient, Provider has date of correction       4/17/2017   \n",
       "13703   Deficient, Provider has date of correction        4/1/2017   \n",
       "60519   Deficient, Provider has date of correction        4/3/2019   \n",
       "99578   Deficient, Provider has date of correction        8/5/2016   \n",
       "139558  Deficient, Provider has date of correction        2/3/2017   \n",
       "\n",
       "       Inspection Cycle  Standard Deficiency  Complaint Deficiency  \\\n",
       "124944                3                 True                     0   \n",
       "13703                 3                False                     1   \n",
       "60519                 1                 True                     0   \n",
       "99578                 3                 True                     0   \n",
       "139558                3                 True                     0   \n",
       "\n",
       "                                                 Location Processing Date  \\\n",
       "124944  1350 N TODD DR SCOTTSBURG, IN 47170 (38.70198,...        6/1/2019   \n",
       "13703   410 WEST BENTON STREET MONETT, MO 65708 (36.92...        6/1/2019   \n",
       "60519   26181 PARKSLEY ROAD PARKSLEY, VA 23421 (37.758...        6/1/2019   \n",
       "99578   4200 PARK AVENUE BRIDGEPORT, CT 06604 (41.2120...        6/1/2019   \n",
       "139558  417 INDUSTRIAL DRIVE OBERLIN, LA 70655 (30.626...        6/1/2019   \n",
       "\n",
       "       Labels  \n",
       "124944      0  \n",
       "13703       0  \n",
       "60519       7  \n",
       "99578       0  \n",
       "139558      0  \n",
       "\n",
       "[5 rows x 21 columns]"
      ]
     },
     "execution_count": 65,
     "metadata": {},
     "output_type": "execute_result"
    }
   ],
   "source": [
    "dfFireSafety['Labels']=labels\n",
    "dfFireSafety.head()"
   ]
  },
  {
   "cell_type": "code",
   "execution_count": 66,
   "metadata": {},
   "outputs": [
    {
     "name": "stderr",
     "output_type": "stream",
     "text": [
      "c:\\python\\lib\\site-packages\\ipykernel_launcher.py:2: SettingWithCopyWarning: \n",
      "A value is trying to be set on a copy of a slice from a DataFrame.\n",
      "Try using .loc[row_indexer,col_indexer] = value instead\n",
      "\n",
      "See the caveats in the documentation: http://pandas.pydata.org/pandas-docs/stable/indexing.html#indexing-view-versus-copy\n",
      "  \n"
     ]
    },
    {
     "data": {
      "text/html": [
       "<div>\n",
       "<style scoped>\n",
       "    .dataframe tbody tr th:only-of-type {\n",
       "        vertical-align: middle;\n",
       "    }\n",
       "\n",
       "    .dataframe tbody tr th {\n",
       "        vertical-align: top;\n",
       "    }\n",
       "\n",
       "    .dataframe thead th {\n",
       "        text-align: right;\n",
       "    }\n",
       "</style>\n",
       "<table border=\"1\" class=\"dataframe\">\n",
       "  <thead>\n",
       "    <tr style=\"text-align: right;\">\n",
       "      <th></th>\n",
       "      <th>Scope Severity Code</th>\n",
       "      <th>Labels</th>\n",
       "    </tr>\n",
       "  </thead>\n",
       "  <tbody>\n",
       "    <tr>\n",
       "      <th>124944</th>\n",
       "      <td>10</td>\n",
       "      <td>0.0</td>\n",
       "    </tr>\n",
       "    <tr>\n",
       "      <th>13703</th>\n",
       "      <td>10</td>\n",
       "      <td>0.0</td>\n",
       "    </tr>\n",
       "    <tr>\n",
       "      <th>60519</th>\n",
       "      <td>10</td>\n",
       "      <td>7.0</td>\n",
       "    </tr>\n",
       "    <tr>\n",
       "      <th>99578</th>\n",
       "      <td>10</td>\n",
       "      <td>0.0</td>\n",
       "    </tr>\n",
       "    <tr>\n",
       "      <th>139558</th>\n",
       "      <td>10</td>\n",
       "      <td>0.0</td>\n",
       "    </tr>\n",
       "  </tbody>\n",
       "</table>\n",
       "</div>"
      ],
      "text/plain": [
       "        Scope Severity Code  Labels\n",
       "124944                   10     0.0\n",
       "13703                    10     0.0\n",
       "60519                    10     7.0\n",
       "99578                    10     0.0\n",
       "139558                   10     0.0"
      ]
     },
     "execution_count": 66,
     "metadata": {},
     "output_type": "execute_result"
    }
   ],
   "source": [
    "dfFireSafetyC=dfFireSafety[['Scope Severity Code','Labels']]\n",
    "dfFireSafetyC['Labels']=dfFireSafetyC['Labels'].astype('float')\n",
    "dfFireSafetyC.head()"
   ]
  },
  {
   "cell_type": "code",
   "execution_count": 67,
   "metadata": {},
   "outputs": [
    {
     "data": {
      "text/html": [
       "<div>\n",
       "<style scoped>\n",
       "    .dataframe tbody tr th:only-of-type {\n",
       "        vertical-align: middle;\n",
       "    }\n",
       "\n",
       "    .dataframe tbody tr th {\n",
       "        vertical-align: top;\n",
       "    }\n",
       "\n",
       "    .dataframe thead th {\n",
       "        text-align: right;\n",
       "    }\n",
       "</style>\n",
       "<table border=\"1\" class=\"dataframe\">\n",
       "  <thead>\n",
       "    <tr style=\"text-align: right;\">\n",
       "      <th></th>\n",
       "      <th>Scope Severity Code</th>\n",
       "    </tr>\n",
       "    <tr>\n",
       "      <th>Labels</th>\n",
       "      <th></th>\n",
       "    </tr>\n",
       "  </thead>\n",
       "  <tbody>\n",
       "    <tr>\n",
       "      <th>0.0</th>\n",
       "      <td>5.014827</td>\n",
       "    </tr>\n",
       "    <tr>\n",
       "      <th>1.0</th>\n",
       "      <td>3.000000</td>\n",
       "    </tr>\n",
       "    <tr>\n",
       "      <th>2.0</th>\n",
       "      <td>2.790136</td>\n",
       "    </tr>\n",
       "    <tr>\n",
       "      <th>3.0</th>\n",
       "      <td>5.010313</td>\n",
       "    </tr>\n",
       "    <tr>\n",
       "      <th>4.0</th>\n",
       "      <td>1.947693</td>\n",
       "    </tr>\n",
       "    <tr>\n",
       "      <th>5.0</th>\n",
       "      <td>4.000000</td>\n",
       "    </tr>\n",
       "    <tr>\n",
       "      <th>6.0</th>\n",
       "      <td>4.000000</td>\n",
       "    </tr>\n",
       "    <tr>\n",
       "      <th>7.0</th>\n",
       "      <td>5.006951</td>\n",
       "    </tr>\n",
       "    <tr>\n",
       "      <th>8.0</th>\n",
       "      <td>4.000000</td>\n",
       "    </tr>\n",
       "  </tbody>\n",
       "</table>\n",
       "</div>"
      ],
      "text/plain": [
       "        Scope Severity Code\n",
       "Labels                     \n",
       "0.0                5.014827\n",
       "1.0                3.000000\n",
       "2.0                2.790136\n",
       "3.0                5.010313\n",
       "4.0                1.947693\n",
       "5.0                4.000000\n",
       "6.0                4.000000\n",
       "7.0                5.006951\n",
       "8.0                4.000000"
      ]
     },
     "execution_count": 67,
     "metadata": {},
     "output_type": "execute_result"
    }
   ],
   "source": [
    "dfFireSafetyC.groupby('Labels').mean()"
   ]
  },
  {
   "cell_type": "code",
   "execution_count": 68,
   "metadata": {},
   "outputs": [
    {
     "data": {
      "text/plain": [
       "<mpl_toolkits.mplot3d.art3d.Path3DCollection at 0x1774d390>"
      ]
     },
     "execution_count": 68,
     "metadata": {},
     "output_type": "execute_result"
    },
    {
     "data": {
      "image/png": "[encoded data removed]",
      "text/plain": [
       "<Figure size 432x288 with 1 Axes>"
      ]
     },
     "metadata": {},
     "output_type": "display_data"
    }
   ],
   "source": [
    "from mpl_toolkits.mplot3d import Axes3D\n",
    "fig = plt.figure()\n",
    "ax = Axes3D(fig)\n",
    "#ax.scatter(X[:, 0], X[:, 1], X[:, 2], c=y)\n",
    "ax.scatter(dfFireSafetyC['Labels'], dfFireSafetyC['Scope Severity Code'], marker='*', c='#050505', s=1000)"
   ]
  },
  {
   "cell_type": "code",
   "execution_count": 69,
   "metadata": {},
   "outputs": [],
   "source": [
    "dfFireSafetyStateWise=dfFireSafety[['Provider State','Labels']]"
   ]
  },
  {
   "cell_type": "code",
   "execution_count": 70,
   "metadata": {},
   "outputs": [
    {
     "data": {
      "text/plain": [
       "Labels\n",
       "0    49\n",
       "1    51\n",
       "2    51\n",
       "3    49\n",
       "4    48\n",
       "Name: Provider State, dtype: int64"
      ]
     },
     "execution_count": 70,
     "metadata": {},
     "output_type": "execute_result"
    }
   ],
   "source": [
    "dfFireSafetymean=dfFireSafetyStateWise.groupby('Labels')['Provider State'].nunique()\n",
    "\n",
    "dfFireSafetymean.head()"
   ]
  },
  {
   "cell_type": "code",
   "execution_count": 71,
   "metadata": {},
   "outputs": [
    {
     "data": {
      "text/plain": [
       "<matplotlib.axes._subplots.AxesSubplot at 0x198d8790>"
      ]
     },
     "execution_count": 71,
     "metadata": {},
     "output_type": "execute_result"
    },
    {
     "data": {
      "image/png": "[encoded data removed]",
      "text/plain": [
       "<Figure size 432x288 with 1 Axes>"
      ]
     },
     "metadata": {},
     "output_type": "display_data"
    }
   ],
   "source": [
    "dfFireSafetymean.plot(kind='bar')\n"
   ]
  },
  {
   "cell_type": "code",
   "execution_count": 79,
   "metadata": {},
   "outputs": [
    {
     "name": "stdout",
     "output_type": "stream",
     "text": [
      "Your credentails:\n",
      "CLIENT_ID: IDSENOB1J5TED3WWYTJPWXHMKRMF2EA3MBKEEYWFGNAF1SEG\n",
      "CLIENT_SECRET:KQZM4R3IOYU5VI25HPKJMFE20VRVCQGQ24ZNR4B2Y4N4QXKT\n"
     ]
    }
   ],
   "source": [
    "CLIENT_ID = 'IDSENOB1J5TED3WWYTJPWXHMKRMF2EA3MBKEEYWFGNAF1SEG' # your Foursquare ID\n",
    "CLIENT_SECRET = 'KQZM4R3IOYU5VI25HPKJMFE20VRVCQGQ24ZNR4B2Y4N4QXKT' # your Foursquare Secret\n",
    "VERSION = '20180604'\n",
    "LIMIT = 30\n",
    "print('Your credentails:')\n",
    "print('CLIENT_ID: ' + CLIENT_ID)\n",
    "print('CLIENT_SECRET:' + CLIENT_SECRET)\n"
   ]
  },
  {
   "cell_type": "markdown",
   "metadata": {},
   "source": [
    "### FourSquare API"
   ]
  },
  {
   "cell_type": "code",
   "execution_count": 92,
   "metadata": {},
   "outputs": [
    {
     "name": "stdout",
     "output_type": "stream",
     "text": [
      "39.34410255 -76.7085207705438\n"
     ]
    }
   ],
   "source": [
    "address = '4800 SETON DRIVE,BALTIMORE,MD'\n",
    "\n",
    "\n",
    "geolocator = Nominatim(user_agent=\"foursquare_agent\")\n",
    "#geolocator\n",
    "location = geolocator.geocode(address)\n",
    "\n",
    "latitude = location.latitude\n",
    "longitude = location.longitude\n",
    "print(latitude, longitude)\n"
   ]
  },
  {
   "cell_type": "code",
   "execution_count": 94,
   "metadata": {},
   "outputs": [],
   "source": [
    "search_query = 'REHABILITATION CENTER'\n",
    "radius = 500"
   ]
  },
  {
   "cell_type": "code",
   "execution_count": 95,
   "metadata": {},
   "outputs": [
    {
     "data": {
      "text/plain": [
       "'https://api.foursquare.com/v2/venues/search?client_id=IDSENOB1J5TED3WWYTJPWXHMKRMF2EA3MBKEEYWFGNAF1SEG&client_secret=KQZM4R3IOYU5VI25HPKJMFE20VRVCQGQ24ZNR4B2Y4N4QXKT&ll=39.34410255,-76.7085207705438&v=20180604&query=REHABILITATION CENTER&radius=500&limit=30'"
      ]
     },
     "execution_count": 95,
     "metadata": {},
     "output_type": "execute_result"
    }
   ],
   "source": [
    "url = 'https://api.foursquare.com/v2/venues/search?client_id={}&client_secret={}&ll={},{}&v={}&query={}&radius={}&limit={}'.format(CLIENT_ID, CLIENT_SECRET, latitude, longitude, VERSION, search_query, radius, LIMIT)\n",
    "url"
   ]
  },
  {
   "cell_type": "code",
   "execution_count": 96,
   "metadata": {},
   "outputs": [
    {
     "data": {
      "text/plain": [
       "{'meta': {'code': 200, 'requestId': '5d371bd0a1979300374177fe'},\n",
       " 'response': {'venues': [{'categories': [{'icon': {'prefix': 'https://ss3.4sqi.net/img/categories_v2/building/conventioncenter_',\n",
       "       'suffix': '.png'},\n",
       "      'id': '4bf58dd8d48988d1ff931735',\n",
       "      'name': 'Convention Center',\n",
       "      'pluralName': 'Convention Centers',\n",
       "      'primary': True,\n",
       "      'shortName': 'Convention Center'}],\n",
       "    'hasPerk': False,\n",
       "    'id': '57d0e244cd10ec59d8f5429f',\n",
       "    'location': {'address': '6020 Marian Dr',\n",
       "     'cc': 'US',\n",
       "     'city': 'Baltimore',\n",
       "     'country': 'United States',\n",
       "     'distance': 316,\n",
       "     'formattedAddress': ['6020 Marian Dr',\n",
       "      'Baltimore, MD 21215',\n",
       "      'United States'],\n",
       "     'labeledLatLngs': [{'label': 'display',\n",
       "       'lat': 39.346109,\n",
       "       'lng': -76.711121}],\n",
       "     'lat': 39.346109,\n",
       "     'lng': -76.711121,\n",
       "     'postalCode': '21215',\n",
       "     'state': 'MD'},\n",
       "    'name': 'New Psalmist Retreat & Meeting Center',\n",
       "    'referralId': 'v-1563892688'}]}}"
      ]
     },
     "execution_count": 96,
     "metadata": {},
     "output_type": "execute_result"
    }
   ],
   "source": [
    "results = requests.get(url).json()\n",
    "results\n"
   ]
  },
  {
   "cell_type": "code",
   "execution_count": 97,
   "metadata": {},
   "outputs": [
    {
     "data": {
      "text/html": [
       "<div>\n",
       "<style scoped>\n",
       "    .dataframe tbody tr th:only-of-type {\n",
       "        vertical-align: middle;\n",
       "    }\n",
       "\n",
       "    .dataframe tbody tr th {\n",
       "        vertical-align: top;\n",
       "    }\n",
       "\n",
       "    .dataframe thead th {\n",
       "        text-align: right;\n",
       "    }\n",
       "</style>\n",
       "<table border=\"1\" class=\"dataframe\">\n",
       "  <thead>\n",
       "    <tr style=\"text-align: right;\">\n",
       "      <th></th>\n",
       "      <th>categories</th>\n",
       "      <th>hasPerk</th>\n",
       "      <th>id</th>\n",
       "      <th>location.address</th>\n",
       "      <th>location.cc</th>\n",
       "      <th>location.city</th>\n",
       "      <th>location.country</th>\n",
       "      <th>location.distance</th>\n",
       "      <th>location.formattedAddress</th>\n",
       "      <th>location.labeledLatLngs</th>\n",
       "      <th>location.lat</th>\n",
       "      <th>location.lng</th>\n",
       "      <th>location.postalCode</th>\n",
       "      <th>location.state</th>\n",
       "      <th>name</th>\n",
       "      <th>referralId</th>\n",
       "    </tr>\n",
       "  </thead>\n",
       "  <tbody>\n",
       "    <tr>\n",
       "      <th>0</th>\n",
       "      <td>[{'id': '4bf58dd8d48988d1ff931735', 'name': 'C...</td>\n",
       "      <td>False</td>\n",
       "      <td>57d0e244cd10ec59d8f5429f</td>\n",
       "      <td>6020 Marian Dr</td>\n",
       "      <td>US</td>\n",
       "      <td>Baltimore</td>\n",
       "      <td>United States</td>\n",
       "      <td>316</td>\n",
       "      <td>[6020 Marian Dr, Baltimore, MD 21215, United S...</td>\n",
       "      <td>[{'label': 'display', 'lat': 39.346109, 'lng':...</td>\n",
       "      <td>39.346109</td>\n",
       "      <td>-76.711121</td>\n",
       "      <td>21215</td>\n",
       "      <td>MD</td>\n",
       "      <td>New Psalmist Retreat &amp; Meeting Center</td>\n",
       "      <td>v-1563892688</td>\n",
       "    </tr>\n",
       "  </tbody>\n",
       "</table>\n",
       "</div>"
      ],
      "text/plain": [
       "                                          categories  hasPerk  \\\n",
       "0  [{'id': '4bf58dd8d48988d1ff931735', 'name': 'C...    False   \n",
       "\n",
       "                         id location.address location.cc location.city  \\\n",
       "0  57d0e244cd10ec59d8f5429f   6020 Marian Dr          US     Baltimore   \n",
       "\n",
       "  location.country  location.distance  \\\n",
       "0    United States                316   \n",
       "\n",
       "                           location.formattedAddress  \\\n",
       "0  [6020 Marian Dr, Baltimore, MD 21215, United S...   \n",
       "\n",
       "                             location.labeledLatLngs  location.lat  \\\n",
       "0  [{'label': 'display', 'lat': 39.346109, 'lng':...     39.346109   \n",
       "\n",
       "   location.lng location.postalCode location.state  \\\n",
       "0    -76.711121               21215             MD   \n",
       "\n",
       "                                    name    referralId  \n",
       "0  New Psalmist Retreat & Meeting Center  v-1563892688  "
      ]
     },
     "execution_count": 97,
     "metadata": {},
     "output_type": "execute_result"
    }
   ],
   "source": [
    "venues = results['response']['venues']\n",
    "\n",
    "# tranform venues into a dataframe\n",
    "dfVenue = json_normalize(venues)\n",
    "dfVenue.head()"
   ]
  },
  {
   "cell_type": "code",
   "execution_count": 100,
   "metadata": {},
   "outputs": [
    {
     "data": {
      "text/html": [
       "<div>\n",
       "<style scoped>\n",
       "    .dataframe tbody tr th:only-of-type {\n",
       "        vertical-align: middle;\n",
       "    }\n",
       "\n",
       "    .dataframe tbody tr th {\n",
       "        vertical-align: top;\n",
       "    }\n",
       "\n",
       "    .dataframe thead th {\n",
       "        text-align: right;\n",
       "    }\n",
       "</style>\n",
       "<table border=\"1\" class=\"dataframe\">\n",
       "  <thead>\n",
       "    <tr style=\"text-align: right;\">\n",
       "      <th></th>\n",
       "      <th>name</th>\n",
       "      <th>categories</th>\n",
       "      <th>address</th>\n",
       "      <th>cc</th>\n",
       "      <th>city</th>\n",
       "      <th>country</th>\n",
       "      <th>distance</th>\n",
       "      <th>formattedAddress</th>\n",
       "      <th>labeledLatLngs</th>\n",
       "      <th>lat</th>\n",
       "      <th>lng</th>\n",
       "      <th>postalCode</th>\n",
       "      <th>state</th>\n",
       "      <th>id</th>\n",
       "    </tr>\n",
       "  </thead>\n",
       "  <tbody>\n",
       "    <tr>\n",
       "      <th>0</th>\n",
       "      <td>New Psalmist Retreat &amp; Meeting Center</td>\n",
       "      <td>Convention Center</td>\n",
       "      <td>6020 Marian Dr</td>\n",
       "      <td>US</td>\n",
       "      <td>Baltimore</td>\n",
       "      <td>United States</td>\n",
       "      <td>316</td>\n",
       "      <td>[6020 Marian Dr, Baltimore, MD 21215, United S...</td>\n",
       "      <td>[{'label': 'display', 'lat': 39.346109, 'lng':...</td>\n",
       "      <td>39.346109</td>\n",
       "      <td>-76.711121</td>\n",
       "      <td>21215</td>\n",
       "      <td>MD</td>\n",
       "      <td>57d0e244cd10ec59d8f5429f</td>\n",
       "    </tr>\n",
       "  </tbody>\n",
       "</table>\n",
       "</div>"
      ],
      "text/plain": [
       "                                    name         categories         address  \\\n",
       "0  New Psalmist Retreat & Meeting Center  Convention Center  6020 Marian Dr   \n",
       "\n",
       "   cc       city        country  distance  \\\n",
       "0  US  Baltimore  United States       316   \n",
       "\n",
       "                                    formattedAddress  \\\n",
       "0  [6020 Marian Dr, Baltimore, MD 21215, United S...   \n",
       "\n",
       "                                      labeledLatLngs        lat        lng  \\\n",
       "0  [{'label': 'display', 'lat': 39.346109, 'lng':...  39.346109 -76.711121   \n",
       "\n",
       "  postalCode state                        id  \n",
       "0      21215    MD  57d0e244cd10ec59d8f5429f  "
      ]
     },
     "execution_count": 100,
     "metadata": {},
     "output_type": "execute_result"
    }
   ],
   "source": [
    "filtered_columns = ['name', 'categories'] + [col for col in dfVenue.columns if col.startswith('location.')] + ['id']\n",
    "dfVenue_filtered = dfVenue.loc[:, filtered_columns]\n",
    "\n",
    "# function that extracts the category of the venue\n",
    "def get_category_type(row):\n",
    "    try:\n",
    "        categories_list = row['categories']\n",
    "    except:\n",
    "        categories_list = row['venue.categories']\n",
    "        \n",
    "    if len(categories_list) == 0:\n",
    "        return None\n",
    "    else:\n",
    "        return categories_list[0]['name']\n",
    "\n",
    "# filter the category for each row\n",
    "dfVenue_filtered['categories'] = dfVenue_filtered.apply(get_category_type, axis=1)\n",
    "\n",
    "# clean column names by keeping only last term\n",
    "dfVenue_filtered.columns = [column.split('.')[-1] for column in dfVenue_filtered.columns]\n",
    "\n",
    "dfVenue_filtered"
   ]
  },
  {
   "cell_type": "code",
   "execution_count": 101,
   "metadata": {},
   "outputs": [
    {
     "data": {
      "text/plain": [
       "0    New Psalmist Retreat & Meeting Center\n",
       "Name: name, dtype: object"
      ]
     },
     "execution_count": 101,
     "metadata": {},
     "output_type": "execute_result"
    }
   ],
   "source": [
    "dfVenue_filtered.name"
   ]
  },
  {
   "cell_type": "code",
   "execution_count": 102,
   "metadata": {},
   "outputs": [],
   "source": [
    "venues_map = folium.Map(location=[latitude, longitude], zoom_start=13) # generate map centred around the Conrad Hotel"
   ]
  },
  {
   "cell_type": "code",
   "execution_count": 104,
   "metadata": {},
   "outputs": [
    {
     "data": {
      "text/html": [
       "<div style=\"width:100%;\"><div style=\"position:relative;width:100%;height:0;padding-bottom:60%;\"><iframe src=\"data:text/html;charset=utf-8;base64,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\" style=\"position:absolute;width:100%;height:100%;left:0;top:0;border:none !important;\" allowfullscreen webkitallowfullscreen mozallowfullscreen></iframe></div></div>"
      ],
      "text/plain": [
       "<folium.folium.Map at 0x1a975390>"
      ]
     },
     "execution_count": 104,
     "metadata": {},
     "output_type": "execute_result"
    }
   ],
   "source": [
    "for lat, lng, label in zip(dfVenue_filtered.lat, dfVenue_filtered.lng, dfVenue_filtered.categories):\n",
    "    folium.CircleMarker(\n",
    "        [lat, lng],\n",
    "        radius=5,\n",
    "        color='blue',\n",
    "        popup=label,\n",
    "        fill = True,\n",
    "        fill_color='blue',\n",
    "        fill_opacity=0.6\n",
    "    ).add_to(venues_map)\n",
    "\n",
    "# display map\n",
    "venues_map"
   ]
  },
  {
   "cell_type": "markdown",
   "metadata": {},
   "source": [
    "### Logistic Regression"
   ]
  },
  {
   "cell_type": "code",
   "execution_count": 112,
   "metadata": {},
   "outputs": [],
   "source": [
    "X=dfFireSafety[['Scope Severity Code']].values\n",
    "Y=dfFireSafety['Complaint Deficiency'].values"
   ]
  },
  {
   "cell_type": "code",
   "execution_count": 113,
   "metadata": {},
   "outputs": [
    {
     "data": {
      "text/plain": [
       "LogisticRegression(C=0.01, class_weight=None, dual=False, fit_intercept=True,\n",
       "          intercept_scaling=1, max_iter=100, multi_class='warn',\n",
       "          n_jobs=None, penalty='l2', random_state=None, solver='liblinear',\n",
       "          tol=0.0001, verbose=0, warm_start=False)"
      ]
     },
     "execution_count": 113,
     "metadata": {},
     "output_type": "execute_result"
    }
   ],
   "source": [
    "LR = LogisticRegression(C=0.01, solver='liblinear').fit(X.astype(str),Y.astype(str))\n",
    "LR"
   ]
  },
  {
   "cell_type": "code",
   "execution_count": 114,
   "metadata": {},
   "outputs": [],
   "source": [
    "#X = preprocessing.StandardScaler().fit(X).transform(X.astype(float))"
   ]
  },
  {
   "cell_type": "code",
   "execution_count": 115,
   "metadata": {},
   "outputs": [
    {
     "data": {
      "text/plain": [
       "array(['0', '0', '0', ..., '0', '0', '0'], dtype='<U21')"
      ]
     },
     "execution_count": 115,
     "metadata": {},
     "output_type": "execute_result"
    }
   ],
   "source": [
    "yprediction = LR.predict(X)\n",
    "yprediction"
   ]
  },
  {
   "cell_type": "code",
   "execution_count": 117,
   "metadata": {},
   "outputs": [
    {
     "data": {
      "text/plain": [
       "array([[9.99958355e-01, 4.16454238e-05],\n",
       "       [9.99958355e-01, 4.16454238e-05],\n",
       "       [9.99958355e-01, 4.16454238e-05],\n",
       "       ...,\n",
       "       [9.69241688e-01, 3.07583116e-02],\n",
       "       [9.69241688e-01, 3.07583116e-02],\n",
       "       [9.69241688e-01, 3.07583116e-02]])"
      ]
     },
     "execution_count": 117,
     "metadata": {},
     "output_type": "execute_result"
    }
   ],
   "source": [
    "yhat_prob = LR.predict_proba(X)\n",
    "yhat_prob"
   ]
  },
  {
   "cell_type": "code",
   "execution_count": 118,
   "metadata": {},
   "outputs": [
    {
     "data": {
      "text/plain": [
       "0.9962659959288983"
      ]
     },
     "execution_count": 118,
     "metadata": {},
     "output_type": "execute_result"
    }
   ],
   "source": [
    "from sklearn.metrics import jaccard_similarity_score\n",
    "jaccard_similarity_score(Y.astype(str), yprediction)"
   ]
  },
  {
   "cell_type": "code",
   "execution_count": 123,
   "metadata": {},
   "outputs": [
    {
     "name": "stderr",
     "output_type": "stream",
     "text": [
      "c:\\python\\lib\\site-packages\\sklearn\\metrics\\classification.py:1143: UndefinedMetricWarning: Precision and F-score are ill-defined and being set to 0.0 in labels with no predicted samples.\n",
      "  'precision', 'predicted', average, warn_for)\n"
     ]
    },
    {
     "name": "stdout",
     "output_type": "stream",
     "text": [
      "              precision    recall  f1-score   support\n",
      "\n",
      "           0       1.00      1.00      1.00    153682\n",
      "           1       0.00      0.00      0.00       576\n",
      "\n",
      "   micro avg       1.00      1.00      1.00    154258\n",
      "   macro avg       0.50      0.50      0.50    154258\n",
      "weighted avg       0.99      1.00      0.99    154258\n",
      "\n"
     ]
    }
   ],
   "source": [
    "from sklearn.metrics import classification_report, confusion_matrix\n",
    "from sklearn.metrics import f1_score\n",
    "import itertools\n",
    "print (classification_report(Y.astype(str), yprediction))"
   ]
  },
  {
   "cell_type": "code",
   "execution_count": 124,
   "metadata": {},
   "outputs": [
    {
     "data": {
      "text/html": [
       "<div>\n",
       "<style scoped>\n",
       "    .dataframe tbody tr th:only-of-type {\n",
       "        vertical-align: middle;\n",
       "    }\n",
       "\n",
       "    .dataframe tbody tr th {\n",
       "        vertical-align: top;\n",
       "    }\n",
       "\n",
       "    .dataframe thead th {\n",
       "        text-align: right;\n",
       "    }\n",
       "</style>\n",
       "<table border=\"1\" class=\"dataframe\">\n",
       "  <thead>\n",
       "    <tr style=\"text-align: right;\">\n",
       "      <th></th>\n",
       "      <th>Federal Provider Number</th>\n",
       "      <th>Provider Name</th>\n",
       "      <th>Provider Address</th>\n",
       "      <th>Provider City</th>\n",
       "      <th>Provider State</th>\n",
       "      <th>Provider Zip Code</th>\n",
       "      <th>Survey Date</th>\n",
       "      <th>Survey Type</th>\n",
       "      <th>Deficiency Prefix</th>\n",
       "      <th>Deficiency Tag Number</th>\n",
       "      <th>...</th>\n",
       "      <th>Scope Severity Code</th>\n",
       "      <th>Deficiency Corrected</th>\n",
       "      <th>Correction Date</th>\n",
       "      <th>Inspection Cycle</th>\n",
       "      <th>Standard Deficiency</th>\n",
       "      <th>Complaint Deficiency</th>\n",
       "      <th>Location</th>\n",
       "      <th>Processing Date</th>\n",
       "      <th>Labels</th>\n",
       "      <th>PredictedComplaintDeficiency</th>\n",
       "    </tr>\n",
       "  </thead>\n",
       "  <tbody>\n",
       "    <tr>\n",
       "      <th>124944</th>\n",
       "      <td>155494</td>\n",
       "      <td>WATERS OF SCOTTSBURG, THE</td>\n",
       "      <td>1350 N TODD DR</td>\n",
       "      <td>SCOTTSBURG</td>\n",
       "      <td>IN</td>\n",
       "      <td>47170</td>\n",
       "      <td>3/29/2017</td>\n",
       "      <td>Fire Safety</td>\n",
       "      <td>K</td>\n",
       "      <td>353</td>\n",
       "      <td>...</td>\n",
       "      <td>10</td>\n",
       "      <td>Deficient, Provider has date of correction</td>\n",
       "      <td>4/17/2017</td>\n",
       "      <td>3</td>\n",
       "      <td>True</td>\n",
       "      <td>0</td>\n",
       "      <td>1350 N TODD DR SCOTTSBURG, IN 47170 (38.70198,...</td>\n",
       "      <td>6/1/2019</td>\n",
       "      <td>0</td>\n",
       "      <td>0</td>\n",
       "    </tr>\n",
       "    <tr>\n",
       "      <th>13703</th>\n",
       "      <td>265410</td>\n",
       "      <td>BENTONVIEW PARK HEALTH &amp; REHABILITATION</td>\n",
       "      <td>410 WEST BENTON STREET</td>\n",
       "      <td>MONETT</td>\n",
       "      <td>MO</td>\n",
       "      <td>65708</td>\n",
       "      <td>3/28/2017</td>\n",
       "      <td>Fire Safety</td>\n",
       "      <td>K</td>\n",
       "      <td>354</td>\n",
       "      <td>...</td>\n",
       "      <td>10</td>\n",
       "      <td>Deficient, Provider has date of correction</td>\n",
       "      <td>4/1/2017</td>\n",
       "      <td>3</td>\n",
       "      <td>False</td>\n",
       "      <td>1</td>\n",
       "      <td>410 WEST BENTON STREET MONETT, MO 65708 (36.92...</td>\n",
       "      <td>6/1/2019</td>\n",
       "      <td>0</td>\n",
       "      <td>0</td>\n",
       "    </tr>\n",
       "    <tr>\n",
       "      <th>60519</th>\n",
       "      <td>495334</td>\n",
       "      <td>SHORE HEALTH &amp; REHAB CENTER</td>\n",
       "      <td>26181 PARKSLEY ROAD</td>\n",
       "      <td>PARKSLEY</td>\n",
       "      <td>VA</td>\n",
       "      <td>23421</td>\n",
       "      <td>1/30/2019</td>\n",
       "      <td>Fire Safety</td>\n",
       "      <td>K</td>\n",
       "      <td>341</td>\n",
       "      <td>...</td>\n",
       "      <td>10</td>\n",
       "      <td>Deficient, Provider has date of correction</td>\n",
       "      <td>4/3/2019</td>\n",
       "      <td>1</td>\n",
       "      <td>True</td>\n",
       "      <td>0</td>\n",
       "      <td>26181 PARKSLEY ROAD PARKSLEY, VA 23421 (37.758...</td>\n",
       "      <td>6/1/2019</td>\n",
       "      <td>7</td>\n",
       "      <td>0</td>\n",
       "    </tr>\n",
       "    <tr>\n",
       "      <th>99578</th>\n",
       "      <td>75353</td>\n",
       "      <td>JEWISH SENIOR SERVICES</td>\n",
       "      <td>4200 PARK AVENUE</td>\n",
       "      <td>BRIDGEPORT</td>\n",
       "      <td>CT</td>\n",
       "      <td>6604</td>\n",
       "      <td>8/2/2016</td>\n",
       "      <td>Fire Safety</td>\n",
       "      <td>K</td>\n",
       "      <td>50</td>\n",
       "      <td>...</td>\n",
       "      <td>10</td>\n",
       "      <td>Deficient, Provider has date of correction</td>\n",
       "      <td>8/5/2016</td>\n",
       "      <td>3</td>\n",
       "      <td>True</td>\n",
       "      <td>0</td>\n",
       "      <td>4200 PARK AVENUE BRIDGEPORT, CT 06604 (41.2120...</td>\n",
       "      <td>6/1/2019</td>\n",
       "      <td>0</td>\n",
       "      <td>0</td>\n",
       "    </tr>\n",
       "    <tr>\n",
       "      <th>139558</th>\n",
       "      <td>195499</td>\n",
       "      <td>ST FRANCES NSG &amp; REHAB CENTER</td>\n",
       "      <td>417 INDUSTRIAL DRIVE</td>\n",
       "      <td>OBERLIN</td>\n",
       "      <td>LA</td>\n",
       "      <td>70655</td>\n",
       "      <td>1/9/2017</td>\n",
       "      <td>Fire Safety</td>\n",
       "      <td>K</td>\n",
       "      <td>343</td>\n",
       "      <td>...</td>\n",
       "      <td>10</td>\n",
       "      <td>Deficient, Provider has date of correction</td>\n",
       "      <td>2/3/2017</td>\n",
       "      <td>3</td>\n",
       "      <td>True</td>\n",
       "      <td>0</td>\n",
       "      <td>417 INDUSTRIAL DRIVE OBERLIN, LA 70655 (30.626...</td>\n",
       "      <td>6/1/2019</td>\n",
       "      <td>0</td>\n",
       "      <td>0</td>\n",
       "    </tr>\n",
       "  </tbody>\n",
       "</table>\n",
       "<p>5 rows × 22 columns</p>\n",
       "</div>"
      ],
      "text/plain": [
       "       Federal Provider Number                            Provider Name  \\\n",
       "124944                  155494                WATERS OF SCOTTSBURG, THE   \n",
       "13703                   265410  BENTONVIEW PARK HEALTH & REHABILITATION   \n",
       "60519                   495334              SHORE HEALTH & REHAB CENTER   \n",
       "99578                    75353                   JEWISH SENIOR SERVICES   \n",
       "139558                  195499            ST FRANCES NSG & REHAB CENTER   \n",
       "\n",
       "              Provider Address Provider City Provider State  \\\n",
       "124944          1350 N TODD DR    SCOTTSBURG             IN   \n",
       "13703   410 WEST BENTON STREET        MONETT             MO   \n",
       "60519      26181 PARKSLEY ROAD      PARKSLEY             VA   \n",
       "99578         4200 PARK AVENUE    BRIDGEPORT             CT   \n",
       "139558    417 INDUSTRIAL DRIVE       OBERLIN             LA   \n",
       "\n",
       "        Provider Zip Code Survey Date  Survey Type Deficiency Prefix  \\\n",
       "124944              47170   3/29/2017  Fire Safety                 K   \n",
       "13703               65708   3/28/2017  Fire Safety                 K   \n",
       "60519               23421   1/30/2019  Fire Safety                 K   \n",
       "99578                6604    8/2/2016  Fire Safety                 K   \n",
       "139558              70655    1/9/2017  Fire Safety                 K   \n",
       "\n",
       "        Deficiency Tag Number             ...               \\\n",
       "124944                    353             ...                \n",
       "13703                     354             ...                \n",
       "60519                     341             ...                \n",
       "99578                      50             ...                \n",
       "139558                    343             ...                \n",
       "\n",
       "        Scope Severity Code                        Deficiency Corrected  \\\n",
       "124944                   10  Deficient, Provider has date of correction   \n",
       "13703                    10  Deficient, Provider has date of correction   \n",
       "60519                    10  Deficient, Provider has date of correction   \n",
       "99578                    10  Deficient, Provider has date of correction   \n",
       "139558                   10  Deficient, Provider has date of correction   \n",
       "\n",
       "        Correction Date Inspection Cycle Standard Deficiency  \\\n",
       "124944        4/17/2017                3                True   \n",
       "13703          4/1/2017                3               False   \n",
       "60519          4/3/2019                1                True   \n",
       "99578          8/5/2016                3                True   \n",
       "139558         2/3/2017                3                True   \n",
       "\n",
       "        Complaint Deficiency  \\\n",
       "124944                     0   \n",
       "13703                      1   \n",
       "60519                      0   \n",
       "99578                      0   \n",
       "139558                     0   \n",
       "\n",
       "                                                 Location  Processing Date  \\\n",
       "124944  1350 N TODD DR SCOTTSBURG, IN 47170 (38.70198,...         6/1/2019   \n",
       "13703   410 WEST BENTON STREET MONETT, MO 65708 (36.92...         6/1/2019   \n",
       "60519   26181 PARKSLEY ROAD PARKSLEY, VA 23421 (37.758...         6/1/2019   \n",
       "99578   4200 PARK AVENUE BRIDGEPORT, CT 06604 (41.2120...         6/1/2019   \n",
       "139558  417 INDUSTRIAL DRIVE OBERLIN, LA 70655 (30.626...         6/1/2019   \n",
       "\n",
       "       Labels PredictedComplaintDeficiency  \n",
       "124944      0                            0  \n",
       "13703       0                            0  \n",
       "60519       7                            0  \n",
       "99578       0                            0  \n",
       "139558      0                            0  \n",
       "\n",
       "[5 rows x 22 columns]"
      ]
     },
     "execution_count": 124,
     "metadata": {},
     "output_type": "execute_result"
    }
   ],
   "source": [
    "dfFireSafety.head()"
   ]
  },
  {
   "cell_type": "markdown",
   "metadata": {},
   "source": [
    "## Results and Discussion section"
   ]
  },
  {
   "cell_type": "markdown",
   "metadata": {},
   "source": [
    "We may discuss the result as we see severity level 7 is occuring many of the states. We should concentrate on that first. \n",
    "Based on cluster we can apply different safety mechanism"
   ]
  },
  {
   "cell_type": "markdown",
   "metadata": {},
   "source": [
    "### Conclusion"
   ]
  },
  {
   "cell_type": "markdown",
   "metadata": {},
   "source": [
    "To solve the problem, We should cluster different fire deficiency zone and action accordingly. We also did Mapping to show the area. \n",
    "We used Logistic to know the probability of complaint deficiency"
   ]
  },
  {
   "cell_type": "code",
   "execution_count": null,
   "metadata": {},
   "outputs": [],
   "source": []
  }
 ],
 "metadata": {
  "kernelspec": {
   "display_name": "Python 3",
   "language": "python",
   "name": "python3"
  },
  "language_info": {
   "codemirror_mode": {
    "name": "ipython",
    "version": 3
   },
   "file_extension": ".py",
   "mimetype": "text/x-python",
   "name": "python",
   "nbconvert_exporter": "python",
   "pygments_lexer": "ipython3",
   "version": "3.6.4"
  }
 },
 "nbformat": 4,
 "nbformat_minor": 2
}
