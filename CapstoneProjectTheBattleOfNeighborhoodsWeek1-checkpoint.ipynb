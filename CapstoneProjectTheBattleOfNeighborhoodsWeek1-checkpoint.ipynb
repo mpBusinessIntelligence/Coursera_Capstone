{
 "cells": [
  {
   "cell_type": "markdown",
   "metadata": {},
   "source": [
    "# Capstone Project - The Battle of Neighborhoods (Week 1)"
   ]
  },
  {
   "cell_type": "markdown",
   "metadata": {},
   "source": [
    "# Business Problem Section"
   ]
  },
  {
   "cell_type": "markdown",
   "metadata": {},
   "source": [
    "#### Background"
   ]
  },
  {
   "cell_type": "markdown",
   "metadata": {},
   "source": [
    "As per the survey conducted it has been noticed that fire safety for many of the nursing providers has been of concern. There is a concern on how to move with the solution.The annual number of fires in health care properties reported to United States fire departments has followed a moderate downward trend since 2003. After falling between 2003 and 2010, the estimated number of fires has increased each year since 2011"
   ]
  },
  {
   "cell_type": "markdown",
   "metadata": {},
   "source": [
    "#### Business Problem"
   ]
  },
  {
   "cell_type": "markdown",
   "metadata": {},
   "source": [
    "There is an urgent need of machine learning algorithm to assist the professionals and nursing home providers to make an effective decisions to tackle all fire safety deficiencies.\n",
    "\n",
    "To solve this problem I would cluster the zone based on following:-\n",
    "severity level\n",
    "region wise\n",
    "Tag version\n",
    "Deficieny Description\n"
   ]
  },
  {
   "cell_type": "markdown",
   "metadata": {},
   "source": [
    "# Data Section"
   ]
  },
  {
   "cell_type": "markdown",
   "metadata": {},
   "source": [
    "Data was collected from https://healthdata.gov/dataset/fire-safety-deficiencies\n",
    "\n",
    "We would be using following data.A list of all fire safety deficiencies currently listed on Nursing Home Compare, including the nursing home that received the deficiency, the associated inspection date, deficiency tag number, scope and severity, the current status of the deficiency and the correction date."
   ]
  },
  {
   "cell_type": "markdown",
   "metadata": {},
   "source": [
    "'Federal Provider Number',\n",
    "'Provider Name', \n",
    "'Provider Address',\n",
    "'Provider City',\n",
    "'Provider State',\n",
    "'Provider Zip Code', \n",
    "'Survey Date',\n",
    "'Survey Type', \n",
    "'Deficiency Prefix', \n",
    "'Deficiency Tag Number',\n",
    "'Tag Version', \n",
    "'Deficiency Description',\n",
    "'Scope Severity Code',\n",
    "'Deficiency Corrected',\n",
    "'Correction Date', \n",
    "'Inspection Cycle',\n",
    "'Standard Deficiency', \n",
    "'Complaint Deficiency',\n",
    "'Location',\n",
    "'Processing Date'"
   ]
  },
  {
   "cell_type": "markdown",
   "metadata": {},
   "source": [
    "To explore and create a zone based on different cluster.We will access data through FourSquare API interface and arrange them as a dataframe for visualization. We will recommend better option for fire safety."
   ]
  },
  {
   "cell_type": "code",
   "execution_count": 5,
   "metadata": {},
   "outputs": [],
   "source": [
    "import pandas as pd"
   ]
  },
  {
   "cell_type": "code",
   "execution_count": 7,
   "metadata": {},
   "outputs": [
    {
     "data": {
      "text/html": [
       "<div>\n",
       "<style scoped>\n",
       "    .dataframe tbody tr th:only-of-type {\n",
       "        vertical-align: middle;\n",
       "    }\n",
       "\n",
       "    .dataframe tbody tr th {\n",
       "        vertical-align: top;\n",
       "    }\n",
       "\n",
       "    .dataframe thead th {\n",
       "        text-align: right;\n",
       "    }\n",
       "</style>\n",
       "<table border=\"1\" class=\"dataframe\">\n",
       "  <thead>\n",
       "    <tr style=\"text-align: right;\">\n",
       "      <th></th>\n",
       "      <th>Federal Provider Number</th>\n",
       "      <th>Provider Name</th>\n",
       "      <th>Provider Address</th>\n",
       "      <th>Provider City</th>\n",
       "      <th>Provider State</th>\n",
       "      <th>Provider Zip Code</th>\n",
       "      <th>Survey Date</th>\n",
       "      <th>Survey Type</th>\n",
       "      <th>Deficiency Prefix</th>\n",
       "      <th>Deficiency Tag Number</th>\n",
       "      <th>Tag Version</th>\n",
       "      <th>Deficiency Description</th>\n",
       "      <th>Scope Severity Code</th>\n",
       "      <th>Deficiency Corrected</th>\n",
       "      <th>Correction Date</th>\n",
       "      <th>Inspection Cycle</th>\n",
       "      <th>Standard Deficiency</th>\n",
       "      <th>Complaint Deficiency</th>\n",
       "      <th>Location</th>\n",
       "      <th>Processing Date</th>\n",
       "    </tr>\n",
       "  </thead>\n",
       "  <tbody>\n",
       "    <tr>\n",
       "      <th>0</th>\n",
       "      <td>215224</td>\n",
       "      <td>MANORCARE HEALTH SERVICES  -SILVER SPRING</td>\n",
       "      <td>2501 MUSGROVE ROAD</td>\n",
       "      <td>SILVER SPRING</td>\n",
       "      <td>MD</td>\n",
       "      <td>20904</td>\n",
       "      <td>10/23/2017</td>\n",
       "      <td>Fire Safety</td>\n",
       "      <td>K</td>\n",
       "      <td>100</td>\n",
       "      <td>New</td>\n",
       "      <td>Meet other general requirements.</td>\n",
       "      <td>D</td>\n",
       "      <td>Deficient, Provider has date of correction</td>\n",
       "      <td>11/30/2017</td>\n",
       "      <td>2</td>\n",
       "      <td>True</td>\n",
       "      <td>N</td>\n",
       "      <td>2501 MUSGROVE ROAD SILVER SPRING, MD 20904 (39...</td>\n",
       "      <td>06/01/2019</td>\n",
       "    </tr>\n",
       "    <tr>\n",
       "      <th>1</th>\n",
       "      <td>215226</td>\n",
       "      <td>POWERBACK REHABILITATION</td>\n",
       "      <td>515 BRIGHTFIELD ROAD</td>\n",
       "      <td>LUTHERVILLE</td>\n",
       "      <td>MD</td>\n",
       "      <td>21093</td>\n",
       "      <td>01/15/2016</td>\n",
       "      <td>Fire Safety</td>\n",
       "      <td>K</td>\n",
       "      <td>51</td>\n",
       "      <td>Old</td>\n",
       "      <td>A fire alarm system that can be heard througho...</td>\n",
       "      <td>F</td>\n",
       "      <td>Deficient, Provider has date of correction</td>\n",
       "      <td>03/22/2016</td>\n",
       "      <td>3</td>\n",
       "      <td>True</td>\n",
       "      <td>N</td>\n",
       "      <td>515 BRIGHTFIELD ROAD LUTHERVILLE, MD 21093 (39...</td>\n",
       "      <td>06/01/2019</td>\n",
       "    </tr>\n",
       "    <tr>\n",
       "      <th>2</th>\n",
       "      <td>215240</td>\n",
       "      <td>MORAN  NURSING AND REHABILITATION CENTER</td>\n",
       "      <td>25701 SHADY LANE S. W.</td>\n",
       "      <td>WESTERNPORT</td>\n",
       "      <td>MD</td>\n",
       "      <td>21562</td>\n",
       "      <td>05/23/2018</td>\n",
       "      <td>Fire Safety</td>\n",
       "      <td>K</td>\n",
       "      <td>321</td>\n",
       "      <td>New</td>\n",
       "      <td>Ensure that special areas are constructed so t...</td>\n",
       "      <td>D</td>\n",
       "      <td>Deficient, Provider has date of correction</td>\n",
       "      <td>06/23/2018</td>\n",
       "      <td>1</td>\n",
       "      <td>True</td>\n",
       "      <td>N</td>\n",
       "      <td>25701 SHADY LANE S W WESTERNPORT, MD 21562 (39...</td>\n",
       "      <td>06/01/2019</td>\n",
       "    </tr>\n",
       "    <tr>\n",
       "      <th>3</th>\n",
       "      <td>215178</td>\n",
       "      <td>FREDERICK VILLA NURSING &amp; REHAB CENTER</td>\n",
       "      <td>711 ACADEMY ROAD</td>\n",
       "      <td>CATONSVILLE</td>\n",
       "      <td>MD</td>\n",
       "      <td>21228</td>\n",
       "      <td>02/26/2018</td>\n",
       "      <td>Fire Safety</td>\n",
       "      <td>K</td>\n",
       "      <td>353</td>\n",
       "      <td>New</td>\n",
       "      <td>Inspect, test, and maintain automatic sprinkle...</td>\n",
       "      <td>F</td>\n",
       "      <td>Deficient, Provider has date of correction</td>\n",
       "      <td>04/06/2018</td>\n",
       "      <td>1</td>\n",
       "      <td>True</td>\n",
       "      <td>N</td>\n",
       "      <td>711 ACADEMY ROAD CATONSVILLE, MD 21228 (39.286...</td>\n",
       "      <td>06/01/2019</td>\n",
       "    </tr>\n",
       "    <tr>\n",
       "      <th>4</th>\n",
       "      <td>215207</td>\n",
       "      <td>LOCHEARN NURSING HOME, LLC</td>\n",
       "      <td>4800 SETON DRIVE</td>\n",
       "      <td>BALTIMORE</td>\n",
       "      <td>MD</td>\n",
       "      <td>21215</td>\n",
       "      <td>08/24/2015</td>\n",
       "      <td>Fire Safety</td>\n",
       "      <td>K</td>\n",
       "      <td>71</td>\n",
       "      <td>Old</td>\n",
       "      <td>Properly constructed linen or trash chutes.</td>\n",
       "      <td>D</td>\n",
       "      <td>Deficient, Provider has date of correction</td>\n",
       "      <td>10/08/2015</td>\n",
       "      <td>3</td>\n",
       "      <td>True</td>\n",
       "      <td>N</td>\n",
       "      <td>4800 SETON DRIVE BALTIMORE, MD 21215 (39.34343...</td>\n",
       "      <td>06/01/2019</td>\n",
       "    </tr>\n",
       "  </tbody>\n",
       "</table>\n",
       "</div>"
      ],
      "text/plain": [
       "  Federal Provider Number                              Provider Name  \\\n",
       "0                  215224  MANORCARE HEALTH SERVICES  -SILVER SPRING   \n",
       "1                  215226                   POWERBACK REHABILITATION   \n",
       "2                  215240   MORAN  NURSING AND REHABILITATION CENTER   \n",
       "3                  215178     FREDERICK VILLA NURSING & REHAB CENTER   \n",
       "4                  215207                 LOCHEARN NURSING HOME, LLC   \n",
       "\n",
       "         Provider Address  Provider City Provider State  Provider Zip Code  \\\n",
       "0      2501 MUSGROVE ROAD  SILVER SPRING             MD              20904   \n",
       "1    515 BRIGHTFIELD ROAD    LUTHERVILLE             MD              21093   \n",
       "2  25701 SHADY LANE S. W.    WESTERNPORT             MD              21562   \n",
       "3        711 ACADEMY ROAD    CATONSVILLE             MD              21228   \n",
       "4        4800 SETON DRIVE      BALTIMORE             MD              21215   \n",
       "\n",
       "  Survey Date  Survey Type Deficiency Prefix  Deficiency Tag Number  \\\n",
       "0  10/23/2017  Fire Safety                 K                    100   \n",
       "1  01/15/2016  Fire Safety                 K                     51   \n",
       "2  05/23/2018  Fire Safety                 K                    321   \n",
       "3  02/26/2018  Fire Safety                 K                    353   \n",
       "4  08/24/2015  Fire Safety                 K                     71   \n",
       "\n",
       "  Tag Version                             Deficiency Description  \\\n",
       "0         New                   Meet other general requirements.   \n",
       "1         Old  A fire alarm system that can be heard througho...   \n",
       "2         New  Ensure that special areas are constructed so t...   \n",
       "3         New  Inspect, test, and maintain automatic sprinkle...   \n",
       "4         Old        Properly constructed linen or trash chutes.   \n",
       "\n",
       "  Scope Severity Code                        Deficiency Corrected  \\\n",
       "0                   D  Deficient, Provider has date of correction   \n",
       "1                   F  Deficient, Provider has date of correction   \n",
       "2                   D  Deficient, Provider has date of correction   \n",
       "3                   F  Deficient, Provider has date of correction   \n",
       "4                   D  Deficient, Provider has date of correction   \n",
       "\n",
       "  Correction Date  Inspection Cycle  Standard Deficiency Complaint Deficiency  \\\n",
       "0      11/30/2017                 2                 True                    N   \n",
       "1      03/22/2016                 3                 True                    N   \n",
       "2      06/23/2018                 1                 True                    N   \n",
       "3      04/06/2018                 1                 True                    N   \n",
       "4      10/08/2015                 3                 True                    N   \n",
       "\n",
       "                                            Location Processing Date  \n",
       "0  2501 MUSGROVE ROAD SILVER SPRING, MD 20904 (39...      06/01/2019  \n",
       "1  515 BRIGHTFIELD ROAD LUTHERVILLE, MD 21093 (39...      06/01/2019  \n",
       "2  25701 SHADY LANE S W WESTERNPORT, MD 21562 (39...      06/01/2019  \n",
       "3  711 ACADEMY ROAD CATONSVILLE, MD 21228 (39.286...      06/01/2019  \n",
       "4  4800 SETON DRIVE BALTIMORE, MD 21215 (39.34343...      06/01/2019  "
      ]
     },
     "execution_count": 7,
     "metadata": {},
     "output_type": "execute_result"
    }
   ],
   "source": [
    "dfFireSafety=pd.read_csv(\"C:\\\\Fire_Safety_Deficiencies.csv\")\n",
    "dfFireSafety.head()"
   ]
  },
  {
   "cell_type": "code",
   "execution_count": null,
   "metadata": {},
   "outputs": [],
   "source": []
  },
  {
   "cell_type": "code",
   "execution_count": null,
   "metadata": {},
   "outputs": [],
   "source": []
  }
 ],
 "metadata": {
  "kernelspec": {
   "display_name": "Python 3",
   "language": "python",
   "name": "python3"
  },
  "language_info": {
   "codemirror_mode": {
    "name": "ipython",
    "version": 3
   },
   "file_extension": ".py",
   "mimetype": "text/x-python",
   "name": "python",
   "nbconvert_exporter": "python",
   "pygments_lexer": "ipython3",
   "version": "3.6.4"
  }
 },
 "nbformat": 4,
 "nbformat_minor": 2
}
